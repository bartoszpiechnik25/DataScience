{
 "cells": [
  {
   "cell_type": "code",
   "execution_count": 1,
   "id": "210ab701",
   "metadata": {},
   "outputs": [],
   "source": [
    "import pandas as pd\n",
    "import numpy as np\n",
    "import matplotlib.pyplot as plt\n",
    "import seaborn as sns\n",
    "%matplotlib inline"
   ]
  },
  {
   "cell_type": "markdown",
   "id": "8ff0e125",
   "metadata": {},
   "source": [
    "### Reading the data"
   ]
  },
  {
   "cell_type": "code",
   "execution_count": 2,
   "id": "6ccd140e",
   "metadata": {},
   "outputs": [],
   "source": [
    "history = pd.read_json('data/StreamingHistory0.json')\n",
    "history_1 = pd.read_json('data/StreamingHistory1.json')\n",
    "history_2 = pd.read_json('data/StreamingHistory2.json')"
   ]
  },
  {
   "cell_type": "code",
   "execution_count": 3,
   "id": "8053fbe6",
   "metadata": {},
   "outputs": [
    {
     "data": {
      "text/html": [
       "<div>\n",
       "<style scoped>\n",
       "    .dataframe tbody tr th:only-of-type {\n",
       "        vertical-align: middle;\n",
       "    }\n",
       "\n",
       "    .dataframe tbody tr th {\n",
       "        vertical-align: top;\n",
       "    }\n",
       "\n",
       "    .dataframe thead th {\n",
       "        text-align: right;\n",
       "    }\n",
       "</style>\n",
       "<table border=\"1\" class=\"dataframe\">\n",
       "  <thead>\n",
       "    <tr style=\"text-align: right;\">\n",
       "      <th></th>\n",
       "      <th>endTime</th>\n",
       "      <th>artistName</th>\n",
       "      <th>trackName</th>\n",
       "      <th>msPlayed</th>\n",
       "    </tr>\n",
       "  </thead>\n",
       "  <tbody>\n",
       "    <tr>\n",
       "      <th>9995</th>\n",
       "      <td>2021-08-26 16:11</td>\n",
       "      <td>AC/DC</td>\n",
       "      <td>Dirty Deeds Done Dirt Cheap</td>\n",
       "      <td>231933</td>\n",
       "    </tr>\n",
       "    <tr>\n",
       "      <th>9996</th>\n",
       "      <td>2021-08-26 16:21</td>\n",
       "      <td>Jimi Hendrix</td>\n",
       "      <td>All Along the Watchtower</td>\n",
       "      <td>52293</td>\n",
       "    </tr>\n",
       "    <tr>\n",
       "      <th>9997</th>\n",
       "      <td>2021-08-26 16:24</td>\n",
       "      <td>Alberto</td>\n",
       "      <td>Z BRATEM ZARABIAM PAPIER</td>\n",
       "      <td>145070</td>\n",
       "    </tr>\n",
       "    <tr>\n",
       "      <th>9998</th>\n",
       "      <td>2021-08-26 16:24</td>\n",
       "      <td>Alberto</td>\n",
       "      <td>Z BRATEM ZARABIAM PAPIER</td>\n",
       "      <td>19655</td>\n",
       "    </tr>\n",
       "    <tr>\n",
       "      <th>9999</th>\n",
       "      <td>2021-08-26 16:26</td>\n",
       "      <td>Dj.Frodo</td>\n",
       "      <td>Kawasaki</td>\n",
       "      <td>5174</td>\n",
       "    </tr>\n",
       "  </tbody>\n",
       "</table>\n",
       "</div>"
      ],
      "text/plain": [
       "               endTime    artistName                    trackName  msPlayed\n",
       "9995  2021-08-26 16:11         AC/DC  Dirty Deeds Done Dirt Cheap    231933\n",
       "9996  2021-08-26 16:21  Jimi Hendrix     All Along the Watchtower     52293\n",
       "9997  2021-08-26 16:24       Alberto     Z BRATEM ZARABIAM PAPIER    145070\n",
       "9998  2021-08-26 16:24       Alberto     Z BRATEM ZARABIAM PAPIER     19655\n",
       "9999  2021-08-26 16:26      Dj.Frodo                     Kawasaki      5174"
      ]
     },
     "execution_count": 3,
     "metadata": {},
     "output_type": "execute_result"
    }
   ],
   "source": [
    "history.tail()"
   ]
  },
  {
   "cell_type": "code",
   "execution_count": 4,
   "id": "19cace31",
   "metadata": {},
   "outputs": [
    {
     "data": {
      "text/html": [
       "<div>\n",
       "<style scoped>\n",
       "    .dataframe tbody tr th:only-of-type {\n",
       "        vertical-align: middle;\n",
       "    }\n",
       "\n",
       "    .dataframe tbody tr th {\n",
       "        vertical-align: top;\n",
       "    }\n",
       "\n",
       "    .dataframe thead th {\n",
       "        text-align: right;\n",
       "    }\n",
       "</style>\n",
       "<table border=\"1\" class=\"dataframe\">\n",
       "  <thead>\n",
       "    <tr style=\"text-align: right;\">\n",
       "      <th></th>\n",
       "      <th>endTime</th>\n",
       "      <th>artistName</th>\n",
       "      <th>trackName</th>\n",
       "      <th>msPlayed</th>\n",
       "    </tr>\n",
       "  </thead>\n",
       "  <tbody>\n",
       "    <tr>\n",
       "      <th>4554</th>\n",
       "      <td>2022-04-15 21:21</td>\n",
       "      <td>Rammstein</td>\n",
       "      <td>Du hast</td>\n",
       "      <td>234226</td>\n",
       "    </tr>\n",
       "    <tr>\n",
       "      <th>4555</th>\n",
       "      <td>2022-04-15 21:21</td>\n",
       "      <td>Death</td>\n",
       "      <td>Spirit Crusher</td>\n",
       "      <td>5547</td>\n",
       "    </tr>\n",
       "    <tr>\n",
       "      <th>4556</th>\n",
       "      <td>2022-04-15 21:24</td>\n",
       "      <td>Gojira</td>\n",
       "      <td>The Cell</td>\n",
       "      <td>197906</td>\n",
       "    </tr>\n",
       "    <tr>\n",
       "      <th>4557</th>\n",
       "      <td>2022-04-15 21:29</td>\n",
       "      <td>Gojira</td>\n",
       "      <td>Stranded</td>\n",
       "      <td>265266</td>\n",
       "    </tr>\n",
       "    <tr>\n",
       "      <th>4558</th>\n",
       "      <td>2022-04-15 21:32</td>\n",
       "      <td>System Of A Down</td>\n",
       "      <td>Know</td>\n",
       "      <td>176693</td>\n",
       "    </tr>\n",
       "  </tbody>\n",
       "</table>\n",
       "</div>"
      ],
      "text/plain": [
       "               endTime        artistName       trackName  msPlayed\n",
       "4554  2022-04-15 21:21         Rammstein         Du hast    234226\n",
       "4555  2022-04-15 21:21             Death  Spirit Crusher      5547\n",
       "4556  2022-04-15 21:24            Gojira        The Cell    197906\n",
       "4557  2022-04-15 21:29            Gojira        Stranded    265266\n",
       "4558  2022-04-15 21:32  System Of A Down            Know    176693"
      ]
     },
     "execution_count": 4,
     "metadata": {},
     "output_type": "execute_result"
    }
   ],
   "source": [
    "history_2.tail()"
   ]
  },
  {
   "cell_type": "code",
   "execution_count": 5,
   "id": "26557819",
   "metadata": {},
   "outputs": [
    {
     "name": "stdout",
     "output_type": "stream",
     "text": [
      "<class 'pandas.core.frame.DataFrame'>\n",
      "RangeIndex: 10000 entries, 0 to 9999\n",
      "Data columns (total 4 columns):\n",
      " #   Column      Non-Null Count  Dtype \n",
      "---  ------      --------------  ----- \n",
      " 0   endTime     10000 non-null  object\n",
      " 1   artistName  10000 non-null  object\n",
      " 2   trackName   10000 non-null  object\n",
      " 3   msPlayed    10000 non-null  int64 \n",
      "dtypes: int64(1), object(3)\n",
      "memory usage: 312.6+ KB\n"
     ]
    }
   ],
   "source": [
    "history_1.info()"
   ]
  },
  {
   "cell_type": "code",
   "execution_count": 6,
   "id": "7a54d443",
   "metadata": {},
   "outputs": [
    {
     "data": {
      "text/html": [
       "<div>\n",
       "<style scoped>\n",
       "    .dataframe tbody tr th:only-of-type {\n",
       "        vertical-align: middle;\n",
       "    }\n",
       "\n",
       "    .dataframe tbody tr th {\n",
       "        vertical-align: top;\n",
       "    }\n",
       "\n",
       "    .dataframe thead th {\n",
       "        text-align: right;\n",
       "    }\n",
       "</style>\n",
       "<table border=\"1\" class=\"dataframe\">\n",
       "  <thead>\n",
       "    <tr style=\"text-align: right;\">\n",
       "      <th></th>\n",
       "      <th>endTime</th>\n",
       "      <th>artistName</th>\n",
       "      <th>trackName</th>\n",
       "      <th>msPlayed</th>\n",
       "    </tr>\n",
       "  </thead>\n",
       "  <tbody>\n",
       "    <tr>\n",
       "      <th>0</th>\n",
       "      <td>2021-04-14 23:14</td>\n",
       "      <td>Khalid</td>\n",
       "      <td>OTW</td>\n",
       "      <td>26493</td>\n",
       "    </tr>\n",
       "    <tr>\n",
       "      <th>1</th>\n",
       "      <td>2021-04-15 07:14</td>\n",
       "      <td>Khalid</td>\n",
       "      <td>OTW</td>\n",
       "      <td>9356</td>\n",
       "    </tr>\n",
       "    <tr>\n",
       "      <th>2</th>\n",
       "      <td>2021-04-15 07:18</td>\n",
       "      <td>Led Zeppelin</td>\n",
       "      <td>Black Dog - Remaster</td>\n",
       "      <td>295386</td>\n",
       "    </tr>\n",
       "    <tr>\n",
       "      <th>3</th>\n",
       "      <td>2021-04-15 07:22</td>\n",
       "      <td>Led Zeppelin</td>\n",
       "      <td>Rock and Roll - Remaster</td>\n",
       "      <td>220560</td>\n",
       "    </tr>\n",
       "    <tr>\n",
       "      <th>4</th>\n",
       "      <td>2021-04-15 07:28</td>\n",
       "      <td>Led Zeppelin</td>\n",
       "      <td>The Battle of Evermore - Remaster</td>\n",
       "      <td>351677</td>\n",
       "    </tr>\n",
       "    <tr>\n",
       "      <th>...</th>\n",
       "      <td>...</td>\n",
       "      <td>...</td>\n",
       "      <td>...</td>\n",
       "      <td>...</td>\n",
       "    </tr>\n",
       "    <tr>\n",
       "      <th>9995</th>\n",
       "      <td>2021-08-26 16:11</td>\n",
       "      <td>AC/DC</td>\n",
       "      <td>Dirty Deeds Done Dirt Cheap</td>\n",
       "      <td>231933</td>\n",
       "    </tr>\n",
       "    <tr>\n",
       "      <th>9996</th>\n",
       "      <td>2021-08-26 16:21</td>\n",
       "      <td>Jimi Hendrix</td>\n",
       "      <td>All Along the Watchtower</td>\n",
       "      <td>52293</td>\n",
       "    </tr>\n",
       "    <tr>\n",
       "      <th>9997</th>\n",
       "      <td>2021-08-26 16:24</td>\n",
       "      <td>Alberto</td>\n",
       "      <td>Z BRATEM ZARABIAM PAPIER</td>\n",
       "      <td>145070</td>\n",
       "    </tr>\n",
       "    <tr>\n",
       "      <th>9998</th>\n",
       "      <td>2021-08-26 16:24</td>\n",
       "      <td>Alberto</td>\n",
       "      <td>Z BRATEM ZARABIAM PAPIER</td>\n",
       "      <td>19655</td>\n",
       "    </tr>\n",
       "    <tr>\n",
       "      <th>9999</th>\n",
       "      <td>2021-08-26 16:26</td>\n",
       "      <td>Dj.Frodo</td>\n",
       "      <td>Kawasaki</td>\n",
       "      <td>5174</td>\n",
       "    </tr>\n",
       "  </tbody>\n",
       "</table>\n",
       "<p>10000 rows × 4 columns</p>\n",
       "</div>"
      ],
      "text/plain": [
       "               endTime    artistName                          trackName  \\\n",
       "0     2021-04-14 23:14        Khalid                                OTW   \n",
       "1     2021-04-15 07:14        Khalid                                OTW   \n",
       "2     2021-04-15 07:18  Led Zeppelin               Black Dog - Remaster   \n",
       "3     2021-04-15 07:22  Led Zeppelin           Rock and Roll - Remaster   \n",
       "4     2021-04-15 07:28  Led Zeppelin  The Battle of Evermore - Remaster   \n",
       "...                ...           ...                                ...   \n",
       "9995  2021-08-26 16:11         AC/DC        Dirty Deeds Done Dirt Cheap   \n",
       "9996  2021-08-26 16:21  Jimi Hendrix           All Along the Watchtower   \n",
       "9997  2021-08-26 16:24       Alberto           Z BRATEM ZARABIAM PAPIER   \n",
       "9998  2021-08-26 16:24       Alberto           Z BRATEM ZARABIAM PAPIER   \n",
       "9999  2021-08-26 16:26      Dj.Frodo                           Kawasaki   \n",
       "\n",
       "      msPlayed  \n",
       "0        26493  \n",
       "1         9356  \n",
       "2       295386  \n",
       "3       220560  \n",
       "4       351677  \n",
       "...        ...  \n",
       "9995    231933  \n",
       "9996     52293  \n",
       "9997    145070  \n",
       "9998     19655  \n",
       "9999      5174  \n",
       "\n",
       "[10000 rows x 4 columns]"
      ]
     },
     "execution_count": 6,
     "metadata": {},
     "output_type": "execute_result"
    }
   ],
   "source": [
    "history"
   ]
  },
  {
   "cell_type": "markdown",
   "id": "0d0357d0",
   "metadata": {},
   "source": [
    "### Looking for the most played artist"
   ]
  },
  {
   "cell_type": "code",
   "execution_count": 7,
   "id": "785fc7f8",
   "metadata": {},
   "outputs": [
    {
     "data": {
      "text/plain": [
       "endTime                      2021-07-01 19:06\n",
       "artistName                          Metallica\n",
       "trackName     Enter Sandman - Remastered 2021\n",
       "msPlayed                              1131241\n",
       "Name: 6566, dtype: object"
      ]
     },
     "execution_count": 7,
     "metadata": {},
     "output_type": "execute_result"
    }
   ],
   "source": [
    "history.iloc[history['msPlayed'].apply(lambda number: number // 1000).idxmax()]"
   ]
  },
  {
   "cell_type": "code",
   "execution_count": 8,
   "id": "e333e658",
   "metadata": {},
   "outputs": [
    {
     "data": {
      "text/plain": [
       "endTime       2021-11-26 13:19\n",
       "artistName     Nauka XXI wieku\n",
       "trackName       #46 - Entropia\n",
       "msPlayed               3307394\n",
       "Name: 6858, dtype: object"
      ]
     },
     "execution_count": 8,
     "metadata": {},
     "output_type": "execute_result"
    }
   ],
   "source": [
    "history_1.iloc[history_1['msPlayed'].apply(lambda number: number // 1000).idxmax()]"
   ]
  },
  {
   "cell_type": "code",
   "execution_count": 9,
   "id": "041e6145",
   "metadata": {},
   "outputs": [
    {
     "data": {
      "text/plain": [
       "endTime            2022-02-15 14:25\n",
       "artistName              Hans Zimmer\n",
       "trackName     Planet Earth II Suite\n",
       "msPlayed                     791300\n",
       "Name: 865, dtype: object"
      ]
     },
     "execution_count": 9,
     "metadata": {},
     "output_type": "execute_result"
    }
   ],
   "source": [
    "history_2.iloc[history_2['msPlayed'].apply(lambda number: number // 1000).idxmax()]"
   ]
  },
  {
   "cell_type": "code",
   "execution_count": 10,
   "id": "6ba54e8e",
   "metadata": {},
   "outputs": [
    {
     "data": {
      "text/html": [
       "<div>\n",
       "<style scoped>\n",
       "    .dataframe tbody tr th:only-of-type {\n",
       "        vertical-align: middle;\n",
       "    }\n",
       "\n",
       "    .dataframe tbody tr th {\n",
       "        vertical-align: top;\n",
       "    }\n",
       "\n",
       "    .dataframe thead th {\n",
       "        text-align: right;\n",
       "    }\n",
       "</style>\n",
       "<table border=\"1\" class=\"dataframe\">\n",
       "  <thead>\n",
       "    <tr style=\"text-align: right;\">\n",
       "      <th></th>\n",
       "      <th>endTime</th>\n",
       "      <th>artistName</th>\n",
       "      <th>trackName</th>\n",
       "      <th>msPlayed</th>\n",
       "    </tr>\n",
       "  </thead>\n",
       "  <tbody>\n",
       "    <tr>\n",
       "      <th>962</th>\n",
       "      <td>2022-02-17 23:22</td>\n",
       "      <td>Korn</td>\n",
       "      <td>Coming Undone</td>\n",
       "      <td>0</td>\n",
       "    </tr>\n",
       "    <tr>\n",
       "      <th>963</th>\n",
       "      <td>2022-02-17 23:22</td>\n",
       "      <td>Megadeth</td>\n",
       "      <td>Skin O' My Teeth - Remastered</td>\n",
       "      <td>0</td>\n",
       "    </tr>\n",
       "    <tr>\n",
       "      <th>2422</th>\n",
       "      <td>2022-03-15 20:31</td>\n",
       "      <td>Martin Garrix</td>\n",
       "      <td>Animals</td>\n",
       "      <td>0</td>\n",
       "    </tr>\n",
       "    <tr>\n",
       "      <th>609</th>\n",
       "      <td>2022-02-10 13:36</td>\n",
       "      <td>Mötley Crüe</td>\n",
       "      <td>Shout At The Devil</td>\n",
       "      <td>0</td>\n",
       "    </tr>\n",
       "    <tr>\n",
       "      <th>961</th>\n",
       "      <td>2022-02-17 23:22</td>\n",
       "      <td>Slipknot</td>\n",
       "      <td>People = Shit</td>\n",
       "      <td>0</td>\n",
       "    </tr>\n",
       "    <tr>\n",
       "      <th>...</th>\n",
       "      <td>...</td>\n",
       "      <td>...</td>\n",
       "      <td>...</td>\n",
       "      <td>...</td>\n",
       "    </tr>\n",
       "    <tr>\n",
       "      <th>1685</th>\n",
       "      <td>2022-03-03 15:50</td>\n",
       "      <td>Gojira</td>\n",
       "      <td>Stranded</td>\n",
       "      <td>589933</td>\n",
       "    </tr>\n",
       "    <tr>\n",
       "      <th>986</th>\n",
       "      <td>2022-02-18 10:35</td>\n",
       "      <td>Gojira</td>\n",
       "      <td>Stranded</td>\n",
       "      <td>624824</td>\n",
       "    </tr>\n",
       "    <tr>\n",
       "      <th>1295</th>\n",
       "      <td>2022-02-22 16:58</td>\n",
       "      <td>Mayhem</td>\n",
       "      <td>Freezing Moon</td>\n",
       "      <td>651650</td>\n",
       "    </tr>\n",
       "    <tr>\n",
       "      <th>18</th>\n",
       "      <td>2022-01-29 22:22</td>\n",
       "      <td>Slipknot</td>\n",
       "      <td>Nero Forte</td>\n",
       "      <td>776826</td>\n",
       "    </tr>\n",
       "    <tr>\n",
       "      <th>865</th>\n",
       "      <td>2022-02-15 14:25</td>\n",
       "      <td>Hans Zimmer</td>\n",
       "      <td>Planet Earth II Suite</td>\n",
       "      <td>791300</td>\n",
       "    </tr>\n",
       "  </tbody>\n",
       "</table>\n",
       "<p>4559 rows × 4 columns</p>\n",
       "</div>"
      ],
      "text/plain": [
       "               endTime     artistName                      trackName  msPlayed\n",
       "962   2022-02-17 23:22           Korn                  Coming Undone         0\n",
       "963   2022-02-17 23:22       Megadeth  Skin O' My Teeth - Remastered         0\n",
       "2422  2022-03-15 20:31  Martin Garrix                        Animals         0\n",
       "609   2022-02-10 13:36    Mötley Crüe             Shout At The Devil         0\n",
       "961   2022-02-17 23:22       Slipknot                  People = Shit         0\n",
       "...                ...            ...                            ...       ...\n",
       "1685  2022-03-03 15:50         Gojira                       Stranded    589933\n",
       "986   2022-02-18 10:35         Gojira                       Stranded    624824\n",
       "1295  2022-02-22 16:58         Mayhem                  Freezing Moon    651650\n",
       "18    2022-01-29 22:22       Slipknot                     Nero Forte    776826\n",
       "865   2022-02-15 14:25    Hans Zimmer          Planet Earth II Suite    791300\n",
       "\n",
       "[4559 rows x 4 columns]"
      ]
     },
     "execution_count": 10,
     "metadata": {},
     "output_type": "execute_result"
    }
   ],
   "source": [
    "history_2.sort_values(by='msPlayed')"
   ]
  },
  {
   "cell_type": "markdown",
   "id": "4c812d73",
   "metadata": {},
   "source": [
    "### Looking for duplications"
   ]
  },
  {
   "cell_type": "code",
   "execution_count": 11,
   "id": "9b70aae9",
   "metadata": {},
   "outputs": [
    {
     "data": {
      "text/plain": [
       "0       False\n",
       "1       False\n",
       "2       False\n",
       "3       False\n",
       "4       False\n",
       "        ...  \n",
       "4554    False\n",
       "4555    False\n",
       "4556    False\n",
       "4557    False\n",
       "4558    False\n",
       "Length: 4559, dtype: bool"
      ]
     },
     "execution_count": 11,
     "metadata": {},
     "output_type": "execute_result"
    }
   ],
   "source": [
    "history_2.duplicated()"
   ]
  },
  {
   "cell_type": "markdown",
   "id": "a856e585",
   "metadata": {},
   "source": [
    "### Looking for the most played song"
   ]
  },
  {
   "cell_type": "code",
   "execution_count": 12,
   "id": "a8fe0451",
   "metadata": {},
   "outputs": [
    {
     "data": {
      "text/plain": [
       "18303"
      ]
     },
     "execution_count": 12,
     "metadata": {},
     "output_type": "execute_result"
    }
   ],
   "source": [
    "nero_forte = history_2[history_2['trackName'] == 'Nero Forte']['msPlayed'].sum()\n",
    "nero_forte // 1000"
   ]
  },
  {
   "cell_type": "markdown",
   "id": "c8f0f537",
   "metadata": {},
   "source": [
    "### Looking for an artist listening time"
   ]
  },
  {
   "cell_type": "code",
   "execution_count": 13,
   "id": "d2894f5a",
   "metadata": {},
   "outputs": [
    {
     "data": {
      "text/plain": [
       "257     317720\n",
       "331      21397\n",
       "332     139541\n",
       "334     185565\n",
       "347     383053\n",
       "         ...  \n",
       "4357    417253\n",
       "4389    106330\n",
       "4390    276727\n",
       "4425    356562\n",
       "4527    211940\n",
       "Name: msPlayed, Length: 260, dtype: int64"
      ]
     },
     "execution_count": 13,
     "metadata": {},
     "output_type": "execute_result"
    }
   ],
   "source": [
    "history_2[history_2['artistName'] == 'Mayhem']['msPlayed']"
   ]
  },
  {
   "cell_type": "code",
   "execution_count": 14,
   "id": "a9712867",
   "metadata": {},
   "outputs": [
    {
     "data": {
      "text/html": [
       "<div>\n",
       "<style scoped>\n",
       "    .dataframe tbody tr th:only-of-type {\n",
       "        vertical-align: middle;\n",
       "    }\n",
       "\n",
       "    .dataframe tbody tr th {\n",
       "        vertical-align: top;\n",
       "    }\n",
       "\n",
       "    .dataframe thead th {\n",
       "        text-align: right;\n",
       "    }\n",
       "</style>\n",
       "<table border=\"1\" class=\"dataframe\">\n",
       "  <thead>\n",
       "    <tr style=\"text-align: right;\">\n",
       "      <th></th>\n",
       "      <th>endTime</th>\n",
       "      <th>artistName</th>\n",
       "      <th>trackName</th>\n",
       "      <th>msPlayed</th>\n",
       "    </tr>\n",
       "  </thead>\n",
       "  <tbody>\n",
       "  </tbody>\n",
       "</table>\n",
       "</div>"
      ],
      "text/plain": [
       "Empty DataFrame\n",
       "Columns: [endTime, artistName, trackName, msPlayed]\n",
       "Index: []"
      ]
     },
     "execution_count": 14,
     "metadata": {},
     "output_type": "execute_result"
    }
   ],
   "source": [
    "history_1[history_1['artistName'] == 'Mayhem']"
   ]
  },
  {
   "cell_type": "markdown",
   "id": "13a9c1a1",
   "metadata": {},
   "source": [
    "### Merge all three datasets into one"
   ]
  },
  {
   "cell_type": "code",
   "execution_count": 15,
   "id": "229e4222",
   "metadata": {},
   "outputs": [
    {
     "data": {
      "text/html": [
       "<div>\n",
       "<style scoped>\n",
       "    .dataframe tbody tr th:only-of-type {\n",
       "        vertical-align: middle;\n",
       "    }\n",
       "\n",
       "    .dataframe tbody tr th {\n",
       "        vertical-align: top;\n",
       "    }\n",
       "\n",
       "    .dataframe thead th {\n",
       "        text-align: right;\n",
       "    }\n",
       "</style>\n",
       "<table border=\"1\" class=\"dataframe\">\n",
       "  <thead>\n",
       "    <tr style=\"text-align: right;\">\n",
       "      <th></th>\n",
       "      <th>endTime</th>\n",
       "      <th>artistName</th>\n",
       "      <th>trackName</th>\n",
       "      <th>msPlayed</th>\n",
       "    </tr>\n",
       "  </thead>\n",
       "  <tbody>\n",
       "    <tr>\n",
       "      <th>0</th>\n",
       "      <td>2021-04-14 23:14</td>\n",
       "      <td>Khalid</td>\n",
       "      <td>OTW</td>\n",
       "      <td>26493</td>\n",
       "    </tr>\n",
       "    <tr>\n",
       "      <th>1</th>\n",
       "      <td>2021-04-15 07:14</td>\n",
       "      <td>Khalid</td>\n",
       "      <td>OTW</td>\n",
       "      <td>9356</td>\n",
       "    </tr>\n",
       "    <tr>\n",
       "      <th>2</th>\n",
       "      <td>2021-04-15 07:18</td>\n",
       "      <td>Led Zeppelin</td>\n",
       "      <td>Black Dog - Remaster</td>\n",
       "      <td>295386</td>\n",
       "    </tr>\n",
       "    <tr>\n",
       "      <th>3</th>\n",
       "      <td>2021-04-15 07:22</td>\n",
       "      <td>Led Zeppelin</td>\n",
       "      <td>Rock and Roll - Remaster</td>\n",
       "      <td>220560</td>\n",
       "    </tr>\n",
       "    <tr>\n",
       "      <th>4</th>\n",
       "      <td>2021-04-15 07:28</td>\n",
       "      <td>Led Zeppelin</td>\n",
       "      <td>The Battle of Evermore - Remaster</td>\n",
       "      <td>351677</td>\n",
       "    </tr>\n",
       "    <tr>\n",
       "      <th>...</th>\n",
       "      <td>...</td>\n",
       "      <td>...</td>\n",
       "      <td>...</td>\n",
       "      <td>...</td>\n",
       "    </tr>\n",
       "    <tr>\n",
       "      <th>4554</th>\n",
       "      <td>2022-04-15 21:21</td>\n",
       "      <td>Rammstein</td>\n",
       "      <td>Du hast</td>\n",
       "      <td>234226</td>\n",
       "    </tr>\n",
       "    <tr>\n",
       "      <th>4555</th>\n",
       "      <td>2022-04-15 21:21</td>\n",
       "      <td>Death</td>\n",
       "      <td>Spirit Crusher</td>\n",
       "      <td>5547</td>\n",
       "    </tr>\n",
       "    <tr>\n",
       "      <th>4556</th>\n",
       "      <td>2022-04-15 21:24</td>\n",
       "      <td>Gojira</td>\n",
       "      <td>The Cell</td>\n",
       "      <td>197906</td>\n",
       "    </tr>\n",
       "    <tr>\n",
       "      <th>4557</th>\n",
       "      <td>2022-04-15 21:29</td>\n",
       "      <td>Gojira</td>\n",
       "      <td>Stranded</td>\n",
       "      <td>265266</td>\n",
       "    </tr>\n",
       "    <tr>\n",
       "      <th>4558</th>\n",
       "      <td>2022-04-15 21:32</td>\n",
       "      <td>System Of A Down</td>\n",
       "      <td>Know</td>\n",
       "      <td>176693</td>\n",
       "    </tr>\n",
       "  </tbody>\n",
       "</table>\n",
       "<p>24559 rows × 4 columns</p>\n",
       "</div>"
      ],
      "text/plain": [
       "               endTime        artistName                          trackName  \\\n",
       "0     2021-04-14 23:14            Khalid                                OTW   \n",
       "1     2021-04-15 07:14            Khalid                                OTW   \n",
       "2     2021-04-15 07:18      Led Zeppelin               Black Dog - Remaster   \n",
       "3     2021-04-15 07:22      Led Zeppelin           Rock and Roll - Remaster   \n",
       "4     2021-04-15 07:28      Led Zeppelin  The Battle of Evermore - Remaster   \n",
       "...                ...               ...                                ...   \n",
       "4554  2022-04-15 21:21         Rammstein                            Du hast   \n",
       "4555  2022-04-15 21:21             Death                     Spirit Crusher   \n",
       "4556  2022-04-15 21:24            Gojira                           The Cell   \n",
       "4557  2022-04-15 21:29            Gojira                           Stranded   \n",
       "4558  2022-04-15 21:32  System Of A Down                               Know   \n",
       "\n",
       "      msPlayed  \n",
       "0        26493  \n",
       "1         9356  \n",
       "2       295386  \n",
       "3       220560  \n",
       "4       351677  \n",
       "...        ...  \n",
       "4554    234226  \n",
       "4555      5547  \n",
       "4556    197906  \n",
       "4557    265266  \n",
       "4558    176693  \n",
       "\n",
       "[24559 rows x 4 columns]"
      ]
     },
     "execution_count": 15,
     "metadata": {},
     "output_type": "execute_result"
    }
   ],
   "source": [
    "history_all = history.append(history_1).append(history_2)\n",
    "history_all"
   ]
  },
  {
   "cell_type": "markdown",
   "id": "e63fe2e9",
   "metadata": {},
   "source": [
    "#### Function for calcualting hours played by specified artist"
   ]
  },
  {
   "cell_type": "code",
   "execution_count": 16,
   "id": "7852e66f",
   "metadata": {},
   "outputs": [],
   "source": [
    "def hours_listen(artist):\n",
    "    print(f'You listened to {artist} for \\\n",
    "{(history_all[history_all[\"artistName\"]== artist][\"msPlayed\"].sum()) / (1000*60*60):.2f} hours')\n",
    "    \n",
    "def hours_listen_return(artist):\n",
    "    return (history_all[history_all[\"artistName\"]== artist][\"msPlayed\"].sum()) / (1000*60*60)"
   ]
  },
  {
   "cell_type": "code",
   "execution_count": 17,
   "id": "d11a4ab4",
   "metadata": {},
   "outputs": [
    {
     "name": "stdout",
     "output_type": "stream",
     "text": [
      "You listened to Mayhem for 17.13 hours\n"
     ]
    }
   ],
   "source": [
    "hours_listen('Mayhem')"
   ]
  },
  {
   "cell_type": "code",
   "execution_count": 18,
   "id": "425c6bfb",
   "metadata": {},
   "outputs": [
    {
     "name": "stdout",
     "output_type": "stream",
     "text": [
      "You listened to Slipknot for 58.64 hours\n"
     ]
    }
   ],
   "source": [
    "hours_listen('Slipknot')"
   ]
  },
  {
   "cell_type": "code",
   "execution_count": 19,
   "id": "134b6b6b",
   "metadata": {},
   "outputs": [
    {
     "name": "stdout",
     "output_type": "stream",
     "text": [
      "You listened to Yeat for 7.93 hours\n"
     ]
    }
   ],
   "source": [
    "hours_listen('Yeat')"
   ]
  },
  {
   "cell_type": "code",
   "execution_count": 20,
   "id": "85cd4d44",
   "metadata": {},
   "outputs": [
    {
     "name": "stdout",
     "output_type": "stream",
     "text": [
      "You listened to Rammstein for 23.14 hours\n",
      "You listened to Slipknot for 58.64 hours\n",
      "You listened to Korn for 7.43 hours\n"
     ]
    }
   ],
   "source": [
    "hours_listen('Rammstein')\n",
    "hours_listen('Slipknot')\n",
    "hours_listen('Korn')"
   ]
  },
  {
   "cell_type": "code",
   "execution_count": 21,
   "id": "e083f39c",
   "metadata": {},
   "outputs": [
    {
     "data": {
      "text/plain": [
       "array(['Khalid', 'Led Zeppelin', 'Rage Against The Machine', 'AC/DC',\n",
       "       'Metallica', \"Guns N' Roses\", 'Kanye West', 'Pink Floyd',\n",
       "       'Red Hot Chili Peppers', 'Nirvana', 'Sum 41', 'The Clash',\n",
       "       'David Guetta', 'Lucky Luke', 'Riton', 'Arctic Monkeys',\n",
       "       'Young Stoner Life', 'Playboi Carti', 'Marilyn Manson', 'Laszlo',\n",
       "       'Justin Bieber', 'Kendrick Lamar', 'Mac Miller', 'Lil Peep',\n",
       "       'Ms. Lauryn Hill', 'Future', 'Tujamo', 'Polo G', 'Travis Scott',\n",
       "       'Eminem', 'King Von', 'Tyler, The Creator', 'Kid Cudi', 'J. Cole',\n",
       "       'Big Sean', 'Madvillain', 'Mata', 'Michael Jackson',\n",
       "       'Anderson .Paak', 'A$AP Rocky', 'chillwagon', 'Cordae',\n",
       "       'Denzel Curry', 'Unknown Artist', 'Aminé', 'Drake',\n",
       "       'Freddie Gibbs', 'City Morgue', 'Post Malone', 'Masno',\n",
       "       'Bruno Mars', 'Lucenzo', 'White 2115', 'Quebonafide', 'Logic',\n",
       "       'Juice WRLD', 'Childish Gambino', 'Roddy Ricch', 'Nas',\n",
       "       'Isaiah Rashad', 'Iron Maiden', 'Linkin Park', 'Marshmello',\n",
       "       'Frank Ocean', '6LACK', 'ScHoolboy Q', 'Lil Uzi Vert', '21 Savage',\n",
       "       'Don Toliver', '$uicideboy$', 'Smith & Thell', 'Białas',\n",
       "       'The Weeknd', 'Two Door Cinema Club', 'Toby Romeo', 'Regard',\n",
       "       'Dax', 'Queen', 'Avicii', 'Rich The Kid', 'Mobb Deep',\n",
       "       'Jack Harlow', 'Chance the Rapper', 'Famous Dex',\n",
       "       'Axwell /\\\\ Ingrosso', 'Chief Keef', 'Tame Impala',\n",
       "       'Piosenki dla dzieci', 'Taco Hemingway', 'Jimi Hendrix', 'LIZOT',\n",
       "       'IZECOLD', 'Joey Bada$$', 'NAV', 'MGMT', 'The Strokes',\n",
       "       'OneRepublic', 'PRO8L3M', 'Young Thug', 'Major Lazer',\n",
       "       'Metro Boomin', 'XXXTENTACION', 'Lil Durk', 'Pop Smoke',\n",
       "       'Imagine Dragons', 'JPEGMAFIA', 'The White Stripes', 'Pusha T',\n",
       "       'Jay Rock', 'Daft Punk', 'Akcent', 'Yuno Miles', 'Migos', 'Pezet',\n",
       "       'Lil Nas X', 'Blueface', 'K Suave', 'G-Eazy', 'Kizo',\n",
       "       'League of Legends', 'Spektrem', 'Cypis', 'Earl Sweatshirt',\n",
       "       'Pi’erre Bourne', 'JAY-Z', 'Wu-Tang Clan', 'KIDS SEE GHOSTS',\n",
       "       'Trippie Redd', 'Kuba Guzik', 'Joel Corry', 'Shane Codd',\n",
       "       'Nathan Evans', 'Purple Disco Machine', 'Rogal DDL',\n",
       "       'Taco Hemingway - Gdybyś Nie Istniała', 'Lil Baby', 'Huncho Jack',\n",
       "       'JACKBOYS', 'Rae Sremmurd', 'Reto', 'Internet Money',\n",
       "       'French Montana', 'Chris Brown', 'Takeoff', 'Kygo', 'Местный',\n",
       "       'The Kid LAROI', '24kGoldn', 'Black Sabbath', 'Muniek Staszczyk',\n",
       "       'Offset', 'The Cranberries', 'Ty Dolla $ign', 'Marvin Gaye',\n",
       "       'Lil Yachty', 'Alberto', 'Ballout', 'Martin Garrix', '070 Shake',\n",
       "       'Kodak Black', 'Oliver Heldens', 'Szpaku', 'Yung Lean', 'Lil Pump',\n",
       "       'Yves V', 'Mario Judah', 'Deorro', 'Sean Paul', 'Calvin Harris',\n",
       "       'blackbear', 'Theis EZ', 'R3HAB', 'Sound Of Legend', 'Blasterjaxx',\n",
       "       'Pegboard Nerds', 'Different Heaven', 'Disfigure', 'Audiosoulz',\n",
       "       'Sigma', 'Far East Movement', 'AREA21', 'Matisse & Sadko',\n",
       "       'MEDUZA', 'Headhunterz', 'Gromee', 'Omar LinX', 'Basto', 'Deepend',\n",
       "       'Aero Chord', 'Feint', 'Halsey', 'Guzior', 'John Williams',\n",
       "       'redveil', 'Gesaffelstein', 'THE SCOTTS', 'Skrillex', 'VIZE',\n",
       "       'Madison Mars', 'The Soundtrackers', 'Kenny Loggins', 'Kungs',\n",
       "       'Robin Schulz', 'Malik Montana', 'AJ Tracey', 'K1ddkami',\n",
       "       'Magiera', 'Sentino', 'TEDE', 'Paluch', 'Dr. Peacock',\n",
       "       'Bracia Figo Fagot', 'Pusher', 'SAINt JHN', 'Olszakumpel',\n",
       "       'Jack Ü', 'Kabe', 'Lipa', 'RAF Camora', 'Baciary', 'Zbóje',\n",
       "       'Urszula Sipinska', 'Favst', 'Jason Derulo', 'Oki', 'SZA',\n",
       "       'DaBaby', 'Dzeko & Torres', 'Megan Thee Stallion', 'MF DOOM',\n",
       "       'Gopnik McBlyat', '5 Seconds of Summer', 'TUZZA Globale',\n",
       "       'Xavier Wulf', 'Nipsey Hussle', 'Daddy Yankee', 'BLACHA',\n",
       "       'Dimitri Vegas & Like Mike', 'Duke Dumont', 'Timmy Trumpet',\n",
       "       'X Ambassadors', 'inverness', 'Elektronomia', 'Mike Candys',\n",
       "       'Panic! At The Disco', 'Lucas & Steve', 'Pitbull', 'Shaun Baker',\n",
       "       'FAULHABER', 'CALVO', 'Don Diablo', 'The Chainsmokers',\n",
       "       'Lil Mosey', 'Camila Cabello', 'Adam Lambert', 'Jonas Brothers',\n",
       "       'Alan Walker', 'Mike Posner', 'Unknown Brain', 'WiDE AWAKE',\n",
       "       'Cascada', 'Dawid Podsiadło', 'Volt & State', 'Sander van Doorn',\n",
       "       'Ellie Goulding', 'Måneskin', 'Swedish House Mafia', 'Home',\n",
       "       'twocolors', 'Toby Fox', 'SHANGUY', 'The Rolling Stones', 'Rush',\n",
       "       'Tom Petty and the Heartbreakers', 'Olivia Addams', 'Katy Perry',\n",
       "       'Megadeth', 'Tiësto', 'Rootkit', 'ILLENIUM', 'Bastille',\n",
       "       '3rd Prototype', 'Martin Fritzon', 'Axwell', 'OVERWERK',\n",
       "       'Macklemore & Ryan Lewis', 'Matthias Krauss',\n",
       "       'Anton Fargau Petrini', 'Inreload', 'Keira Barton',\n",
       "       'Pieter Savenberg', 'Niklas Blumenthaler', 'Ronald Sims',\n",
       "       'Sons of Troells', 'Elevie J', 'Leah Day', 'Juni Tinley',\n",
       "       'Sanja Göransson', 'Daniel Bror Palm', 'Tine Mydland',\n",
       "       'Juliana Stipe', 'Mjuk', 'Michael Logozar', \"Charmaine D'Avis\",\n",
       "       'Barry Hudson-Taylor', 'Sound Emotions', 'King Crimson',\n",
       "       'The Heavy', 'Fox Stevenson', 'Rytmus', 'KDrew', 'YouNotUs',\n",
       "       'Flo Rida', 'Lady Pank', 'Third Perspective', 'BTS',\n",
       "       'Trinidad Cardona', 'Helix', 'B.R.T', 'Robert S', 'Minelli',\n",
       "       'Callson', 'Runtree', 'Alok', 'Funky Beatz', 'Ilkay Sencan',\n",
       "       'Armonize', 'Papa Zeus', 'Player1', 'VINAI', 'Seaven',\n",
       "       'Bebe Rexha', 'ConKi', 'Imany', 'Helion', 'Barmuda', 'Ofenbach',\n",
       "       'Miley Cyrus', 'Goodkins', 'LA Vision', 'Dj Marlon', 'Alle Farben',\n",
       "       'Rita Ora', 'RAYE', 'Deaf Kev', 'Belmondawg', 'Paktofonika',\n",
       "       'Tesher', 'HAIM', 'Smolasty', 'MORGENSHTERN', 'ДЕТИ RAVE',\n",
       "       'By Индия', 'CHASE B', 'T.Love', '2Pac', 'Outkast',\n",
       "       'Męskie Granie Orkiestra 2021', 'Mrozu', 'Bon Jovi', 'Ed Sheeran',\n",
       "       'Galantis', 'Ken Car$on', 'M.I.A.', 'SLAVA MARLOW', 'Slipknot',\n",
       "       'The Smashing Pumpkins', 'Rise Against', 'Martin Lange', 'Pantera',\n",
       "       'Bob Sinclar', 'LXST CXNTURY', 'Cochise', 'Caesars', 'cashk',\n",
       "       'Weisser Quiff', 'Majestic', 'Sigala', 'Mikolas Josef', 'Geneva',\n",
       "       'Kacey Fifield', 'Lanberry', 'J Balvin', 'James Hype',\n",
       "       'The Dirty Youth', 'Nickelback', 'Ava Max', 'Dj Decks', 'Rolipso',\n",
       "       'Kris Kross Amsterdam', 'Tom Grennan', 'Michael Patrick Kelly',\n",
       "       'Rob Baysicc', 'Fousheé', 'Moses', 'Jawsh 685', 'Ricky Gazetta',\n",
       "       'Karolina Stanisławczyk', 'Dua Lipa', 'Lennard Elliot',\n",
       "       'Superfunk', 'Jubël', 'SHWAY', 'Filatov & Karas', 'Topic',\n",
       "       'Sheyna', 'liquidfive', 'Erich Fortov', 'Fabrizio Parisi',\n",
       "       'CRISPIE', 'Young Leosia', '6ix9ine', 'Avi', 'sanah', 'ATB',\n",
       "       'C-BooL', 'Holy Molly', 'Felix Jaehn', 'Daria', 'Feder',\n",
       "       'Steff da Campo', 'ILIRA', 'Foothills', 'Imanbek', 'Becky Hill',\n",
       "       'Mabel', 'Clean Bandit', 'Gabry Ponte', 'Marnik', 'Icona Pop',\n",
       "       'SICKOTOY', 'Martin Jensen', 'A7S', 'Dillon Francis',\n",
       "       \"Gigi D'Agostino\", 'Alesso', 'Mike Williams', 'Drenchill', 'Nea',\n",
       "       'Sam Feldt', 'Fedde Le Grand', 'Loud Luxury', 'HORT3N', 'Margaret',\n",
       "       'Alvin Anthony', 'MarchY', 'Enrique Iglesias', 'Dawid Kwiatkowski',\n",
       "       'Shouse', 'Cleo', 'Remo', 'Sobel', 'Justin Wellington',\n",
       "       'Daria Zawiałow', 'Michał Szczygieł', 'Rosalie.', 'Alvaro Soler',\n",
       "       'Lost Capital', 'Marc Benjamin', 'Mou5ZyZZ', 'Dj.Frodo',\n",
       "       'Josef Bratan', 'Fivio Foreign', 'Miszel', 'Baby Keem', 'Dzem',\n",
       "       'O-Zone', 'Valence', 'Scooter', 'Griff', 'Natalia Szroeder',\n",
       "       'Gojira', 'Rotting Christ', 'Yoth Iria', 'Malist', 'TOOL',\n",
       "       'Pearl Jam', 'Shawn Mendes', 'KISS', 'Motörhead', 'The Who',\n",
       "       'Bladee', 'SSGKobe', 'Molchat Doma', 'Capital Bra', 'Korn',\n",
       "       'Gunna', 'Destroy Lonely', '$odaman', 'Sid Shyne',\n",
       "       'Deadstar London', 'Fijimacintosh', 'DR. KUCHO!', 'Slayer', 'Diho',\n",
       "       'mgng', 'Slimesito', 'Frank Sinatra', 'Smash Mouth', 'YNW Melly',\n",
       "       'Thouxanbanfauni', 'ZillaKami', 'Rainbow', 'Anthrax', 'Skid Row',\n",
       "       'Bruce Dickinson', 'Judas Priest', 'Adrenaline Mob',\n",
       "       'Five Finger Death Punch', 'Diplo', 'LUM!X', 'Armin van Buuren',\n",
       "       'Ranji', 'CLMD', 'Danny Avila', 'Stefy De Cicco', 'FILV',\n",
       "       'Galwaro', 'HVME', 'Jerome', 'Dave Winnel', 'THYPONYX',\n",
       "       'Ian Storm', 'NOTION', 'Tchami', 'Chico Rose', 'ACRAZE', 'Jonasu',\n",
       "       'Salvatore Ganacci', 'Route 94', 'Rene Rodrigezz', 'Michael Gray',\n",
       "       'Rebūke', 'Hardrive', 'Ilary Montanari', 'PANKIDZ', 'Arem Ozguc',\n",
       "       'Lucas Estrada', 'Jeden Osiem L', 'Wiatr', 'Dilated Peoples',\n",
       "       'DMNDS', 'UPWARD', 'Behemoth', 'Death Grips', 'Kreator',\n",
       "       'Elton John', 'Trivium', 'Rammstein', 'Dimitri Vegas',\n",
       "       'Sebastian Ingrosso', 'TJR', 'Lana Del Rey', 'Pendulum',\n",
       "       'Knife Party', 'Ivan Gough', 'Nicky Romero', 'Maroon 5', 'Yeat',\n",
       "       'M83', 'Chuckie', 'Steve Aoki', 'Joji', 'Capital Cities',\n",
       "       'Lady Gaga', 'Rihanna', 'DJ Snake', 'Opium Jai', 'wronglean',\n",
       "       'Drowning Pool', 'Bullet For My Valentine', 'Skillet', 'Coldplay',\n",
       "       'We Came As Romans', 'Mercyful Fate', 'Ratt', 'W.A.S.P.',\n",
       "       'Def Leppard', 'Accept', 'Sodom', 'System Of A Down',\n",
       "       'Nauka XXI wieku', 'P.I.WO BOYZ GANG', 'ZAYN', 'MASNY BEN',\n",
       "       'KANKAN', 'Tymek', 'Miyo', 'Mötley Crüe', 'Van Halen',\n",
       "       'John Newman', 'Słoń', 'Suicide Silence', 'Pesukone', 'RSN',\n",
       "       'BARANOVSKI', 'Blue Man', 'GAYLE', 'Immortal',\n",
       "       'Marcin Przybyłowicz', 'The Beatles', 'Mikolai Stroinski',\n",
       "       'Percival Schuttenbach', 'Paul Leonard-Morgan', 'Alice In Chains',\n",
       "       'Young Doski', 'Dream Theater', 'KSLV Noh', '2021 Wrapped',\n",
       "       'Ronnie Ferrari', 'młody klakson', 'The Living Tombstone',\n",
       "       'Brooks', 'Jim Yosef', 'Japczan', 'Rob Zombie', 'The Game',\n",
       "       'Machine Head', 'Avenged Sevenfold', 'Limp Bizkit', 'Disturbed',\n",
       "       'Lamb of God', 'Ramin Djawadi', 'Tevvez', 'The Alchemist',\n",
       "       'Slaughter to Prevail', 'Jinjer', 'Young Multi', 'Mayhem',\n",
       "       'Gorgoroth', 'Dark Funeral', 'Venom', 'Mushroomhead', 'HammerFall',\n",
       "       'Godsmack', '50 Cent', 'Dying Fetus', 'frozes', 'Tantrum Desire',\n",
       "       'Hans Zimmer', 'Cannibal Corpse', 'Darkthrone', 'Bathory',\n",
       "       'Watain', 'Leviathan', 'Sylosis', 'Adele', 'Jaymes Young',\n",
       "       'LU2VYK', 'MOTi', 'Kah-Lo', 'Öwnboss', 'MOGUAI', 'Joshwa',\n",
       "       'Fatboy Slim', 'HoneyLuv', 'Koven', 'CHANEY', 'Chris Lorenzo',\n",
       "       'Funkstar De Luxe', 'Jay Pryor', 'Klubbheads', 'Hellberg',\n",
       "       'Cornelia Jakobs', 'Petter', 'Death', 'Pięć Dwa Dębiec',\n",
       "       'Gruby AK47', 'KAT', 'White Widow', 'Exodus', 'wokstar', 'Sabaton',\n",
       "       'Machine Gun Kelly', 'Hunter', 'minty', 'lmaopay', 'mtvroman',\n",
       "       'UnoTheActivist', 'gren', 'Decapitated', '$NOT', 'Cartis Bunny',\n",
       "       'Possessed', 'Harry Styles', 'Chivas', 'Sepultura'], dtype=object)"
      ]
     },
     "execution_count": 21,
     "metadata": {},
     "output_type": "execute_result"
    }
   ],
   "source": [
    "history_all['artistName'].unique()"
   ]
  },
  {
   "cell_type": "code",
   "execution_count": null,
   "id": "01632122",
   "metadata": {},
   "outputs": [],
   "source": [
    "decreasing = {art: hours_listen_return(art) for art in history_all['artistName'].unique()}\n",
    "srt = sorted(decreasing.items(), key=lambda item: item[1], reverse=True)"
   ]
  },
  {
   "cell_type": "code",
   "execution_count": null,
   "id": "7ee4030e",
   "metadata": {},
   "outputs": [],
   "source": [
    "srt"
   ]
  },
  {
   "cell_type": "markdown",
   "id": "70f2dfa0",
   "metadata": {},
   "source": [
    "### Function summing hours played "
   ]
  },
  {
   "cell_type": "code",
   "execution_count": null,
   "id": "52157abc",
   "metadata": {},
   "outputs": [],
   "source": [
    "def year_sum(data):\n",
    "    return sum([data[i][1] for i in range(len(data))])"
   ]
  },
  {
   "cell_type": "code",
   "execution_count": null,
   "id": "1741948d",
   "metadata": {},
   "outputs": [],
   "source": [
    "print(f'For the last year you were listening to music for {year_sum(srt)} hours.')"
   ]
  },
  {
   "cell_type": "markdown",
   "id": "b391f624",
   "metadata": {},
   "source": [
    "### Days played"
   ]
  },
  {
   "cell_type": "code",
   "execution_count": null,
   "id": "91885960",
   "metadata": {},
   "outputs": [],
   "source": [
    "year_sum(srt)/24"
   ]
  }
 ],
 "metadata": {
  "kernelspec": {
   "display_name": "Python 3 (ipykernel)",
   "language": "python",
   "name": "python3"
  },
  "language_info": {
   "codemirror_mode": {
    "name": "ipython",
    "version": 3
   },
   "file_extension": ".py",
   "mimetype": "text/x-python",
   "name": "python",
   "nbconvert_exporter": "python",
   "pygments_lexer": "ipython3",
   "version": "3.8.10"
  }
 },
 "nbformat": 4,
 "nbformat_minor": 5
}
