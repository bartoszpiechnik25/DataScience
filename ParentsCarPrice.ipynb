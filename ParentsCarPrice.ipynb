{
 "cells": [
  {
   "cell_type": "markdown",
   "id": "ef12f607",
   "metadata": {},
   "source": [
    "## Cars prices Poland"
   ]
  },
  {
   "cell_type": "code",
   "execution_count": 1,
   "id": "a1ebe828",
   "metadata": {},
   "outputs": [],
   "source": [
    "import numpy as np\n",
    "import pandas as pd\n",
    "import matplotlib.pyplot as plt\n",
    "import seaborn as sns\n",
    "from functions.LoadingData import LoadData\n",
    "from IPython.display import display\n",
    "%matplotlib inline"
   ]
  },
  {
   "cell_type": "markdown",
   "id": "2c377f04",
   "metadata": {},
   "source": [
    "### Loading and exploring the data"
   ]
  },
  {
   "cell_type": "code",
   "execution_count": 2,
   "id": "2caf0ff2",
   "metadata": {},
   "outputs": [
    {
     "name": "stdout",
     "output_type": "stream",
     "text": [
      "Shape of DataFrame is (117927, 11)\n",
      "\n",
      "<class 'pandas.core.frame.DataFrame'>\n",
      "RangeIndex: 117927 entries, 0 to 117926\n",
      "Data columns (total 11 columns):\n",
      " #   Column           Non-Null Count   Dtype \n",
      "---  ------           --------------   ----- \n",
      " 0   Unnamed: 0       117927 non-null  int64 \n",
      " 1   mark             117927 non-null  object\n",
      " 2   model            117927 non-null  object\n",
      " 3   generation_name  87842 non-null   object\n",
      " 4   year             117927 non-null  int64 \n",
      " 5   mileage          117927 non-null  int64 \n",
      " 6   vol_engine       117927 non-null  int64 \n",
      " 7   fuel             117927 non-null  object\n",
      " 8   city             117927 non-null  object\n",
      " 9   province         117927 non-null  object\n",
      " 10  price            117927 non-null  int64 \n",
      "dtypes: int64(5), object(6)\n",
      "memory usage: 9.9+ MB\n"
     ]
    },
    {
     "data": {
      "text/plain": [
       "None"
      ]
     },
     "metadata": {},
     "output_type": "display_data"
    },
    {
     "name": "stdout",
     "output_type": "stream",
     "text": [
      "\n",
      "Head of DataFrame:\n"
     ]
    },
    {
     "data": {
      "text/html": [
       "<div>\n",
       "<style scoped>\n",
       "    .dataframe tbody tr th:only-of-type {\n",
       "        vertical-align: middle;\n",
       "    }\n",
       "\n",
       "    .dataframe tbody tr th {\n",
       "        vertical-align: top;\n",
       "    }\n",
       "\n",
       "    .dataframe thead th {\n",
       "        text-align: right;\n",
       "    }\n",
       "</style>\n",
       "<table border=\"1\" class=\"dataframe\">\n",
       "  <thead>\n",
       "    <tr style=\"text-align: right;\">\n",
       "      <th></th>\n",
       "      <th>Unnamed: 0</th>\n",
       "      <th>mark</th>\n",
       "      <th>model</th>\n",
       "      <th>generation_name</th>\n",
       "      <th>year</th>\n",
       "      <th>mileage</th>\n",
       "      <th>vol_engine</th>\n",
       "      <th>fuel</th>\n",
       "      <th>city</th>\n",
       "      <th>province</th>\n",
       "      <th>price</th>\n",
       "    </tr>\n",
       "  </thead>\n",
       "  <tbody>\n",
       "    <tr>\n",
       "      <th>0</th>\n",
       "      <td>0</td>\n",
       "      <td>opel</td>\n",
       "      <td>combo</td>\n",
       "      <td>gen-d-2011</td>\n",
       "      <td>2015</td>\n",
       "      <td>139568</td>\n",
       "      <td>1248</td>\n",
       "      <td>Diesel</td>\n",
       "      <td>Janki</td>\n",
       "      <td>Mazowieckie</td>\n",
       "      <td>35900</td>\n",
       "    </tr>\n",
       "    <tr>\n",
       "      <th>1</th>\n",
       "      <td>1</td>\n",
       "      <td>opel</td>\n",
       "      <td>combo</td>\n",
       "      <td>gen-d-2011</td>\n",
       "      <td>2018</td>\n",
       "      <td>31991</td>\n",
       "      <td>1499</td>\n",
       "      <td>Diesel</td>\n",
       "      <td>Katowice</td>\n",
       "      <td>Śląskie</td>\n",
       "      <td>78501</td>\n",
       "    </tr>\n",
       "    <tr>\n",
       "      <th>2</th>\n",
       "      <td>2</td>\n",
       "      <td>opel</td>\n",
       "      <td>combo</td>\n",
       "      <td>gen-d-2011</td>\n",
       "      <td>2015</td>\n",
       "      <td>278437</td>\n",
       "      <td>1598</td>\n",
       "      <td>Diesel</td>\n",
       "      <td>Brzeg</td>\n",
       "      <td>Opolskie</td>\n",
       "      <td>27000</td>\n",
       "    </tr>\n",
       "    <tr>\n",
       "      <th>3</th>\n",
       "      <td>3</td>\n",
       "      <td>opel</td>\n",
       "      <td>combo</td>\n",
       "      <td>gen-d-2011</td>\n",
       "      <td>2016</td>\n",
       "      <td>47600</td>\n",
       "      <td>1248</td>\n",
       "      <td>Diesel</td>\n",
       "      <td>Korfantów</td>\n",
       "      <td>Opolskie</td>\n",
       "      <td>30800</td>\n",
       "    </tr>\n",
       "    <tr>\n",
       "      <th>4</th>\n",
       "      <td>4</td>\n",
       "      <td>opel</td>\n",
       "      <td>combo</td>\n",
       "      <td>gen-d-2011</td>\n",
       "      <td>2014</td>\n",
       "      <td>103000</td>\n",
       "      <td>1400</td>\n",
       "      <td>CNG</td>\n",
       "      <td>Tarnowskie Góry</td>\n",
       "      <td>Śląskie</td>\n",
       "      <td>35900</td>\n",
       "    </tr>\n",
       "  </tbody>\n",
       "</table>\n",
       "</div>"
      ],
      "text/plain": [
       "   Unnamed: 0  mark  model generation_name  year  mileage  vol_engine    fuel  \\\n",
       "0           0  opel  combo      gen-d-2011  2015   139568        1248  Diesel   \n",
       "1           1  opel  combo      gen-d-2011  2018    31991        1499  Diesel   \n",
       "2           2  opel  combo      gen-d-2011  2015   278437        1598  Diesel   \n",
       "3           3  opel  combo      gen-d-2011  2016    47600        1248  Diesel   \n",
       "4           4  opel  combo      gen-d-2011  2014   103000        1400     CNG   \n",
       "\n",
       "              city     province  price  \n",
       "0            Janki  Mazowieckie  35900  \n",
       "1         Katowice      Śląskie  78501  \n",
       "2            Brzeg     Opolskie  27000  \n",
       "3        Korfantów     Opolskie  30800  \n",
       "4  Tarnowskie Góry      Śląskie  35900  "
      ]
     },
     "metadata": {},
     "output_type": "display_data"
    },
    {
     "name": "stdout",
     "output_type": "stream",
     "text": [
      "\n",
      "Dataset statistics:\n"
     ]
    },
    {
     "data": {
      "text/html": [
       "<div>\n",
       "<style scoped>\n",
       "    .dataframe tbody tr th:only-of-type {\n",
       "        vertical-align: middle;\n",
       "    }\n",
       "\n",
       "    .dataframe tbody tr th {\n",
       "        vertical-align: top;\n",
       "    }\n",
       "\n",
       "    .dataframe thead th {\n",
       "        text-align: right;\n",
       "    }\n",
       "</style>\n",
       "<table border=\"1\" class=\"dataframe\">\n",
       "  <thead>\n",
       "    <tr style=\"text-align: right;\">\n",
       "      <th></th>\n",
       "      <th>Unnamed: 0</th>\n",
       "      <th>year</th>\n",
       "      <th>mileage</th>\n",
       "      <th>vol_engine</th>\n",
       "      <th>price</th>\n",
       "    </tr>\n",
       "  </thead>\n",
       "  <tbody>\n",
       "    <tr>\n",
       "      <th>count</th>\n",
       "      <td>117927.000000</td>\n",
       "      <td>117927.000000</td>\n",
       "      <td>1.179270e+05</td>\n",
       "      <td>117927.000000</td>\n",
       "      <td>1.179270e+05</td>\n",
       "    </tr>\n",
       "    <tr>\n",
       "      <th>mean</th>\n",
       "      <td>58963.000000</td>\n",
       "      <td>2012.925259</td>\n",
       "      <td>1.409768e+05</td>\n",
       "      <td>1812.057782</td>\n",
       "      <td>7.029988e+04</td>\n",
       "    </tr>\n",
       "    <tr>\n",
       "      <th>std</th>\n",
       "      <td>34042.736935</td>\n",
       "      <td>5.690135</td>\n",
       "      <td>9.236936e+04</td>\n",
       "      <td>643.613438</td>\n",
       "      <td>8.482458e+04</td>\n",
       "    </tr>\n",
       "    <tr>\n",
       "      <th>min</th>\n",
       "      <td>0.000000</td>\n",
       "      <td>1945.000000</td>\n",
       "      <td>0.000000e+00</td>\n",
       "      <td>0.000000</td>\n",
       "      <td>5.000000e+02</td>\n",
       "    </tr>\n",
       "    <tr>\n",
       "      <th>25%</th>\n",
       "      <td>29481.500000</td>\n",
       "      <td>2009.000000</td>\n",
       "      <td>6.700000e+04</td>\n",
       "      <td>1461.000000</td>\n",
       "      <td>2.100000e+04</td>\n",
       "    </tr>\n",
       "    <tr>\n",
       "      <th>50%</th>\n",
       "      <td>58963.000000</td>\n",
       "      <td>2013.000000</td>\n",
       "      <td>1.462690e+05</td>\n",
       "      <td>1796.000000</td>\n",
       "      <td>4.190000e+04</td>\n",
       "    </tr>\n",
       "    <tr>\n",
       "      <th>75%</th>\n",
       "      <td>88444.500000</td>\n",
       "      <td>2018.000000</td>\n",
       "      <td>2.030000e+05</td>\n",
       "      <td>1995.000000</td>\n",
       "      <td>8.360000e+04</td>\n",
       "    </tr>\n",
       "    <tr>\n",
       "      <th>max</th>\n",
       "      <td>117926.000000</td>\n",
       "      <td>2022.000000</td>\n",
       "      <td>2.800000e+06</td>\n",
       "      <td>7600.000000</td>\n",
       "      <td>2.399900e+06</td>\n",
       "    </tr>\n",
       "  </tbody>\n",
       "</table>\n",
       "</div>"
      ],
      "text/plain": [
       "          Unnamed: 0           year       mileage     vol_engine         price\n",
       "count  117927.000000  117927.000000  1.179270e+05  117927.000000  1.179270e+05\n",
       "mean    58963.000000    2012.925259  1.409768e+05    1812.057782  7.029988e+04\n",
       "std     34042.736935       5.690135  9.236936e+04     643.613438  8.482458e+04\n",
       "min         0.000000    1945.000000  0.000000e+00       0.000000  5.000000e+02\n",
       "25%     29481.500000    2009.000000  6.700000e+04    1461.000000  2.100000e+04\n",
       "50%     58963.000000    2013.000000  1.462690e+05    1796.000000  4.190000e+04\n",
       "75%     88444.500000    2018.000000  2.030000e+05    1995.000000  8.360000e+04\n",
       "max    117926.000000    2022.000000  2.800000e+06    7600.000000  2.399900e+06"
      ]
     },
     "metadata": {},
     "output_type": "display_data"
    },
    {
     "name": "stdout",
     "output_type": "stream",
     "text": [
      "\n",
      "Number of NaN values in DataFrame:\n"
     ]
    },
    {
     "data": {
      "text/plain": [
       "Unnamed: 0             0\n",
       "mark                   0\n",
       "model                  0\n",
       "generation_name    30085\n",
       "year                   0\n",
       "mileage                0\n",
       "vol_engine             0\n",
       "fuel                   0\n",
       "city                   0\n",
       "province               0\n",
       "price                  0\n",
       "dtype: int64"
      ]
     },
     "metadata": {},
     "output_type": "display_data"
    },
    {
     "name": "stdout",
     "output_type": "stream",
     "text": [
      "\n",
      "Number of duplicates in DataFrame:\n"
     ]
    },
    {
     "data": {
      "text/plain": [
       "0"
      ]
     },
     "metadata": {},
     "output_type": "display_data"
    },
    {
     "name": "stdout",
     "output_type": "stream",
     "text": [
      "\n",
      "Visualisation of missing values in data set:\n"
     ]
    },
    {
     "data": {
      "image/png": "[encoded data removed]",
      "text/plain": [
       "<Figure size 1650x1050 with 1 Axes>"
      ]
     },
     "metadata": {
      "needs_background": "light"
     },
     "output_type": "display_data"
    }
   ],
   "source": [
    "d = LoadData('data/Car_Prices_Poland_Kaggle.csv')\n",
    "cars = d.create_data()"
   ]
  },
  {
   "cell_type": "code",
   "execution_count": 3,
   "id": "ae0498d2",
   "metadata": {},
   "outputs": [
    {
     "data": {
      "text/plain": [
       "Index(['Unnamed: 0', 'mark', 'model', 'generation_name', 'year', 'mileage',\n",
       "       'vol_engine', 'fuel', 'city', 'province', 'price'],\n",
       "      dtype='object')"
      ]
     },
     "execution_count": 3,
     "metadata": {},
     "output_type": "execute_result"
    }
   ],
   "source": [
    "cars.columns"
   ]
  },
  {
   "cell_type": "code",
   "execution_count": 4,
   "id": "5b6c8ced",
   "metadata": {},
   "outputs": [],
   "source": [
    "cars.drop('Unnamed: 0',axis=1, inplace=True)"
   ]
  },
  {
   "cell_type": "code",
   "execution_count": 5,
   "id": "c1db6a77",
   "metadata": {},
   "outputs": [
    {
     "data": {
      "text/html": [
       "<div>\n",
       "<style scoped>\n",
       "    .dataframe tbody tr th:only-of-type {\n",
       "        vertical-align: middle;\n",
       "    }\n",
       "\n",
       "    .dataframe tbody tr th {\n",
       "        vertical-align: top;\n",
       "    }\n",
       "\n",
       "    .dataframe thead th {\n",
       "        text-align: right;\n",
       "    }\n",
       "</style>\n",
       "<table border=\"1\" class=\"dataframe\">\n",
       "  <thead>\n",
       "    <tr style=\"text-align: right;\">\n",
       "      <th></th>\n",
       "      <th>mark</th>\n",
       "      <th>model</th>\n",
       "      <th>generation_name</th>\n",
       "      <th>year</th>\n",
       "      <th>mileage</th>\n",
       "      <th>vol_engine</th>\n",
       "      <th>fuel</th>\n",
       "      <th>city</th>\n",
       "      <th>province</th>\n",
       "      <th>price</th>\n",
       "    </tr>\n",
       "  </thead>\n",
       "  <tbody>\n",
       "    <tr>\n",
       "      <th>0</th>\n",
       "      <td>opel</td>\n",
       "      <td>combo</td>\n",
       "      <td>gen-d-2011</td>\n",
       "      <td>2015</td>\n",
       "      <td>139568</td>\n",
       "      <td>1248</td>\n",
       "      <td>Diesel</td>\n",
       "      <td>Janki</td>\n",
       "      <td>Mazowieckie</td>\n",
       "      <td>35900</td>\n",
       "    </tr>\n",
       "    <tr>\n",
       "      <th>1</th>\n",
       "      <td>opel</td>\n",
       "      <td>combo</td>\n",
       "      <td>gen-d-2011</td>\n",
       "      <td>2018</td>\n",
       "      <td>31991</td>\n",
       "      <td>1499</td>\n",
       "      <td>Diesel</td>\n",
       "      <td>Katowice</td>\n",
       "      <td>Śląskie</td>\n",
       "      <td>78501</td>\n",
       "    </tr>\n",
       "    <tr>\n",
       "      <th>2</th>\n",
       "      <td>opel</td>\n",
       "      <td>combo</td>\n",
       "      <td>gen-d-2011</td>\n",
       "      <td>2015</td>\n",
       "      <td>278437</td>\n",
       "      <td>1598</td>\n",
       "      <td>Diesel</td>\n",
       "      <td>Brzeg</td>\n",
       "      <td>Opolskie</td>\n",
       "      <td>27000</td>\n",
       "    </tr>\n",
       "    <tr>\n",
       "      <th>3</th>\n",
       "      <td>opel</td>\n",
       "      <td>combo</td>\n",
       "      <td>gen-d-2011</td>\n",
       "      <td>2016</td>\n",
       "      <td>47600</td>\n",
       "      <td>1248</td>\n",
       "      <td>Diesel</td>\n",
       "      <td>Korfantów</td>\n",
       "      <td>Opolskie</td>\n",
       "      <td>30800</td>\n",
       "    </tr>\n",
       "    <tr>\n",
       "      <th>4</th>\n",
       "      <td>opel</td>\n",
       "      <td>combo</td>\n",
       "      <td>gen-d-2011</td>\n",
       "      <td>2014</td>\n",
       "      <td>103000</td>\n",
       "      <td>1400</td>\n",
       "      <td>CNG</td>\n",
       "      <td>Tarnowskie Góry</td>\n",
       "      <td>Śląskie</td>\n",
       "      <td>35900</td>\n",
       "    </tr>\n",
       "  </tbody>\n",
       "</table>\n",
       "</div>"
      ],
      "text/plain": [
       "   mark  model generation_name  year  mileage  vol_engine    fuel  \\\n",
       "0  opel  combo      gen-d-2011  2015   139568        1248  Diesel   \n",
       "1  opel  combo      gen-d-2011  2018    31991        1499  Diesel   \n",
       "2  opel  combo      gen-d-2011  2015   278437        1598  Diesel   \n",
       "3  opel  combo      gen-d-2011  2016    47600        1248  Diesel   \n",
       "4  opel  combo      gen-d-2011  2014   103000        1400     CNG   \n",
       "\n",
       "              city     province  price  \n",
       "0            Janki  Mazowieckie  35900  \n",
       "1         Katowice      Śląskie  78501  \n",
       "2            Brzeg     Opolskie  27000  \n",
       "3        Korfantów     Opolskie  30800  \n",
       "4  Tarnowskie Góry      Śląskie  35900  "
      ]
     },
     "execution_count": 5,
     "metadata": {},
     "output_type": "execute_result"
    }
   ],
   "source": [
    "cars.head()"
   ]
  },
  {
   "cell_type": "code",
   "execution_count": 6,
   "id": "ac1781b3",
   "metadata": {},
   "outputs": [
    {
     "data": {
      "text/plain": [
       "array(['opel', 'audi', 'bmw', 'volkswagen', 'ford', 'mercedes-benz',\n",
       "       'renault', 'toyota', 'skoda', 'alfa-romeo', 'chevrolet', 'citroen',\n",
       "       'fiat', 'honda', 'hyundai', 'kia', 'mazda', 'mini', 'mitsubishi',\n",
       "       'nissan', 'peugeot', 'seat', 'volvo'], dtype=object)"
      ]
     },
     "execution_count": 6,
     "metadata": {},
     "output_type": "execute_result"
    }
   ],
   "source": [
    "cars['mark'].unique()"
   ]
  },
  {
   "cell_type": "code",
   "execution_count": 7,
   "id": "ab3502cf",
   "metadata": {},
   "outputs": [
    {
     "data": {
      "text/plain": [
       "array(['Diesel', 'CNG', 'Gasoline', 'LPG', 'Hybrid', 'Electric'],\n",
       "      dtype=object)"
      ]
     },
     "execution_count": 7,
     "metadata": {},
     "output_type": "execute_result"
    }
   ],
   "source": [
    "cars['fuel'].unique()"
   ]
  },
  {
   "cell_type": "code",
   "execution_count": 8,
   "id": "b3ee51f2",
   "metadata": {},
   "outputs": [
    {
     "data": {
      "text/plain": [
       "<AxesSubplot:xlabel='fuel', ylabel='count'>"
      ]
     },
     "execution_count": 8,
     "metadata": {},
     "output_type": "execute_result"
    },
    {
     "data": {
      "image/png": "[encoded data removed]",
      "text/plain": [
       "<Figure size 900x400 with 1 Axes>"
      ]
     },
     "metadata": {
      "needs_background": "light"
     },
     "output_type": "display_data"
    }
   ],
   "source": [
    "plt.figure(figsize=(9,4),dpi=100)\n",
    "sns.countplot(data=cars, x='fuel')"
   ]
  },
  {
   "cell_type": "code",
   "execution_count": 9,
   "id": "d5840289",
   "metadata": {},
   "outputs": [
    {
     "data": {
      "text/plain": [
       "[Text(0.5, 1.0, 'Amount of Cars Produced Each Year')]"
      ]
     },
     "execution_count": 9,
     "metadata": {},
     "output_type": "execute_result"
    },
    {
     "data": {
      "image/png": "[encoded data removed]",
      "text/plain": [
       "<Figure size 900x600 with 1 Axes>"
      ]
     },
     "metadata": {
      "needs_background": "light"
     },
     "output_type": "display_data"
    }
   ],
   "source": [
    "plt.figure(figsize=(9,6),dpi=100)\n",
    "count_year = sns.countplot(y=cars['year'].loc[cars['year'] > 1994])\n",
    "count_year.set(title='Amount of Cars Produced Each Year')\n",
    "# We are using cars produced after 1994, because amount of cars produced before 1994 compared to other years reduces\n",
    "# transparency of the plot"
   ]
  },
  {
   "cell_type": "markdown",
   "id": "2977351b",
   "metadata": {},
   "source": [
    "### Looking for Peugeot 2008 prices, because that's my parent's car that they want to sell currently"
   ]
  },
  {
   "cell_type": "code",
   "execution_count": 10,
   "id": "881a5e0b",
   "metadata": {},
   "outputs": [
    {
     "data": {
      "text/html": [
       "<div>\n",
       "<style scoped>\n",
       "    .dataframe tbody tr th:only-of-type {\n",
       "        vertical-align: middle;\n",
       "    }\n",
       "\n",
       "    .dataframe tbody tr th {\n",
       "        vertical-align: top;\n",
       "    }\n",
       "\n",
       "    .dataframe thead th {\n",
       "        text-align: right;\n",
       "    }\n",
       "</style>\n",
       "<table border=\"1\" class=\"dataframe\">\n",
       "  <thead>\n",
       "    <tr style=\"text-align: right;\">\n",
       "      <th></th>\n",
       "      <th>mark</th>\n",
       "      <th>model</th>\n",
       "      <th>generation_name</th>\n",
       "      <th>year</th>\n",
       "      <th>mileage</th>\n",
       "      <th>vol_engine</th>\n",
       "      <th>fuel</th>\n",
       "      <th>city</th>\n",
       "      <th>province</th>\n",
       "      <th>price</th>\n",
       "    </tr>\n",
       "  </thead>\n",
       "  <tbody>\n",
       "    <tr>\n",
       "      <th>109031</th>\n",
       "      <td>peugeot</td>\n",
       "      <td>2008</td>\n",
       "      <td>NaN</td>\n",
       "      <td>2020</td>\n",
       "      <td>2500</td>\n",
       "      <td>0</td>\n",
       "      <td>Electric</td>\n",
       "      <td>Gdańsk</td>\n",
       "      <td>Pomorskie</td>\n",
       "      <td>145900</td>\n",
       "    </tr>\n",
       "    <tr>\n",
       "      <th>109032</th>\n",
       "      <td>peugeot</td>\n",
       "      <td>2008</td>\n",
       "      <td>NaN</td>\n",
       "      <td>2016</td>\n",
       "      <td>185000</td>\n",
       "      <td>1199</td>\n",
       "      <td>Gasoline</td>\n",
       "      <td>Ostrów Mazowiecka</td>\n",
       "      <td>Mazowieckie</td>\n",
       "      <td>29900</td>\n",
       "    </tr>\n",
       "    <tr>\n",
       "      <th>109033</th>\n",
       "      <td>peugeot</td>\n",
       "      <td>2008</td>\n",
       "      <td>NaN</td>\n",
       "      <td>2019</td>\n",
       "      <td>26125</td>\n",
       "      <td>1499</td>\n",
       "      <td>Diesel</td>\n",
       "      <td>Jankowo Dolne</td>\n",
       "      <td>Wielkopolskie</td>\n",
       "      <td>37900</td>\n",
       "    </tr>\n",
       "    <tr>\n",
       "      <th>109034</th>\n",
       "      <td>peugeot</td>\n",
       "      <td>2008</td>\n",
       "      <td>NaN</td>\n",
       "      <td>2017</td>\n",
       "      <td>61206</td>\n",
       "      <td>1199</td>\n",
       "      <td>Gasoline</td>\n",
       "      <td>Lublin</td>\n",
       "      <td>Lubelskie</td>\n",
       "      <td>62000</td>\n",
       "    </tr>\n",
       "    <tr>\n",
       "      <th>109035</th>\n",
       "      <td>peugeot</td>\n",
       "      <td>2008</td>\n",
       "      <td>NaN</td>\n",
       "      <td>2013</td>\n",
       "      <td>100000</td>\n",
       "      <td>1199</td>\n",
       "      <td>Gasoline</td>\n",
       "      <td>Biała Podlaska</td>\n",
       "      <td>Lubelskie</td>\n",
       "      <td>39900</td>\n",
       "    </tr>\n",
       "  </tbody>\n",
       "</table>\n",
       "</div>"
      ],
      "text/plain": [
       "           mark model generation_name  year  mileage  vol_engine      fuel  \\\n",
       "109031  peugeot  2008             NaN  2020     2500           0  Electric   \n",
       "109032  peugeot  2008             NaN  2016   185000        1199  Gasoline   \n",
       "109033  peugeot  2008             NaN  2019    26125        1499    Diesel   \n",
       "109034  peugeot  2008             NaN  2017    61206        1199  Gasoline   \n",
       "109035  peugeot  2008             NaN  2013   100000        1199  Gasoline   \n",
       "\n",
       "                     city       province   price  \n",
       "109031             Gdańsk      Pomorskie  145900  \n",
       "109032  Ostrów Mazowiecka    Mazowieckie   29900  \n",
       "109033      Jankowo Dolne  Wielkopolskie   37900  \n",
       "109034             Lublin      Lubelskie   62000  \n",
       "109035     Biała Podlaska      Lubelskie   39900  "
      ]
     },
     "execution_count": 10,
     "metadata": {},
     "output_type": "execute_result"
    }
   ],
   "source": [
    "peugeot_2008 = cars.loc[(cars['mark'] == 'peugeot')&(cars['model']=='2008')].copy(deep=True)\n",
    "peugeot_2008.head()"
   ]
  },
  {
   "cell_type": "code",
   "execution_count": 11,
   "id": "18fe43ca",
   "metadata": {},
   "outputs": [
    {
     "name": "stdout",
     "output_type": "stream",
     "text": [
      "<class 'pandas.core.frame.DataFrame'>\n",
      "Int64Index: 448 entries, 109031 to 109478\n",
      "Data columns (total 10 columns):\n",
      " #   Column           Non-Null Count  Dtype \n",
      "---  ------           --------------  ----- \n",
      " 0   mark             448 non-null    object\n",
      " 1   model            448 non-null    object\n",
      " 2   generation_name  0 non-null      object\n",
      " 3   year             448 non-null    int64 \n",
      " 4   mileage          448 non-null    int64 \n",
      " 5   vol_engine       448 non-null    int64 \n",
      " 6   fuel             448 non-null    object\n",
      " 7   city             448 non-null    object\n",
      " 8   province         448 non-null    object\n",
      " 9   price            448 non-null    int64 \n",
      "dtypes: int64(4), object(6)\n",
      "memory usage: 38.5+ KB\n"
     ]
    }
   ],
   "source": [
    "peugeot_2008.info()"
   ]
  },
  {
   "cell_type": "code",
   "execution_count": 12,
   "id": "068154e5",
   "metadata": {},
   "outputs": [
    {
     "data": {
      "text/html": [
       "<div>\n",
       "<style scoped>\n",
       "    .dataframe tbody tr th:only-of-type {\n",
       "        vertical-align: middle;\n",
       "    }\n",
       "\n",
       "    .dataframe tbody tr th {\n",
       "        vertical-align: top;\n",
       "    }\n",
       "\n",
       "    .dataframe thead th {\n",
       "        text-align: right;\n",
       "    }\n",
       "</style>\n",
       "<table border=\"1\" class=\"dataframe\">\n",
       "  <thead>\n",
       "    <tr style=\"text-align: right;\">\n",
       "      <th></th>\n",
       "      <th>year</th>\n",
       "      <th>mileage</th>\n",
       "      <th>vol_engine</th>\n",
       "      <th>fuel</th>\n",
       "      <th>city</th>\n",
       "      <th>province</th>\n",
       "      <th>price</th>\n",
       "    </tr>\n",
       "  </thead>\n",
       "  <tbody>\n",
       "    <tr>\n",
       "      <th>109031</th>\n",
       "      <td>2020</td>\n",
       "      <td>2500</td>\n",
       "      <td>0</td>\n",
       "      <td>Electric</td>\n",
       "      <td>Gdańsk</td>\n",
       "      <td>Pomorskie</td>\n",
       "      <td>145900</td>\n",
       "    </tr>\n",
       "    <tr>\n",
       "      <th>109032</th>\n",
       "      <td>2016</td>\n",
       "      <td>185000</td>\n",
       "      <td>1199</td>\n",
       "      <td>Gasoline</td>\n",
       "      <td>Ostrów Mazowiecka</td>\n",
       "      <td>Mazowieckie</td>\n",
       "      <td>29900</td>\n",
       "    </tr>\n",
       "    <tr>\n",
       "      <th>109033</th>\n",
       "      <td>2019</td>\n",
       "      <td>26125</td>\n",
       "      <td>1499</td>\n",
       "      <td>Diesel</td>\n",
       "      <td>Jankowo Dolne</td>\n",
       "      <td>Wielkopolskie</td>\n",
       "      <td>37900</td>\n",
       "    </tr>\n",
       "    <tr>\n",
       "      <th>109034</th>\n",
       "      <td>2017</td>\n",
       "      <td>61206</td>\n",
       "      <td>1199</td>\n",
       "      <td>Gasoline</td>\n",
       "      <td>Lublin</td>\n",
       "      <td>Lubelskie</td>\n",
       "      <td>62000</td>\n",
       "    </tr>\n",
       "    <tr>\n",
       "      <th>109035</th>\n",
       "      <td>2013</td>\n",
       "      <td>100000</td>\n",
       "      <td>1199</td>\n",
       "      <td>Gasoline</td>\n",
       "      <td>Biała Podlaska</td>\n",
       "      <td>Lubelskie</td>\n",
       "      <td>39900</td>\n",
       "    </tr>\n",
       "  </tbody>\n",
       "</table>\n",
       "</div>"
      ],
      "text/plain": [
       "        year  mileage  vol_engine      fuel               city       province  \\\n",
       "109031  2020     2500           0  Electric             Gdańsk      Pomorskie   \n",
       "109032  2016   185000        1199  Gasoline  Ostrów Mazowiecka    Mazowieckie   \n",
       "109033  2019    26125        1499    Diesel      Jankowo Dolne  Wielkopolskie   \n",
       "109034  2017    61206        1199  Gasoline             Lublin      Lubelskie   \n",
       "109035  2013   100000        1199  Gasoline     Biała Podlaska      Lubelskie   \n",
       "\n",
       "         price  \n",
       "109031  145900  \n",
       "109032   29900  \n",
       "109033   37900  \n",
       "109034   62000  \n",
       "109035   39900  "
      ]
     },
     "execution_count": 12,
     "metadata": {},
     "output_type": "execute_result"
    }
   ],
   "source": [
    "peugeot_2008.drop(columns=['generation_name', 'mark','model'], inplace=True, axis=1)\n",
    "peugeot_2008.head()"
   ]
  },
  {
   "cell_type": "markdown",
   "id": "c99d616d",
   "metadata": {},
   "source": [
    "### One Hot Encoding Province\n",
    "Using one hot encoding we transform province fearure into numeric vector that we can use in our machine learning algorithm"
   ]
  },
  {
   "cell_type": "code",
   "execution_count": 13,
   "id": "99452cb2",
   "metadata": {},
   "outputs": [
    {
     "data": {
      "text/plain": [
       "array(['Pomorskie', 'Mazowieckie', 'Wielkopolskie', 'Lubelskie',\n",
       "       'Łódzkie', 'Śląskie', 'Dolnośląskie', 'Kujawsko-pomorskie',\n",
       "       'Lubuskie', 'Podkarpackie', 'Małopolskie', 'Podlaskie',\n",
       "       'Zachodniopomorskie', 'Opolskie', 'Warmińsko-mazurskie',\n",
       "       'Świętokrzyskie'], dtype=object)"
      ]
     },
     "execution_count": 13,
     "metadata": {},
     "output_type": "execute_result"
    }
   ],
   "source": [
    "provinces = peugeot_2008['province'].unique()\n",
    "provinces"
   ]
  },
  {
   "cell_type": "code",
   "execution_count": 14,
   "id": "4f260228",
   "metadata": {},
   "outputs": [
    {
     "data": {
      "text/html": [
       "<div>\n",
       "<style scoped>\n",
       "    .dataframe tbody tr th:only-of-type {\n",
       "        vertical-align: middle;\n",
       "    }\n",
       "\n",
       "    .dataframe tbody tr th {\n",
       "        vertical-align: top;\n",
       "    }\n",
       "\n",
       "    .dataframe thead th {\n",
       "        text-align: right;\n",
       "    }\n",
       "</style>\n",
       "<table border=\"1\" class=\"dataframe\">\n",
       "  <thead>\n",
       "    <tr style=\"text-align: right;\">\n",
       "      <th></th>\n",
       "      <th>Dolnośląskie</th>\n",
       "      <th>Kujawsko-pomorskie</th>\n",
       "      <th>Lubelskie</th>\n",
       "      <th>Lubuskie</th>\n",
       "      <th>Mazowieckie</th>\n",
       "      <th>Małopolskie</th>\n",
       "      <th>Opolskie</th>\n",
       "      <th>Podkarpackie</th>\n",
       "      <th>Podlaskie</th>\n",
       "      <th>Pomorskie</th>\n",
       "      <th>Warmińsko-mazurskie</th>\n",
       "      <th>Wielkopolskie</th>\n",
       "      <th>Zachodniopomorskie</th>\n",
       "      <th>Łódzkie</th>\n",
       "      <th>Śląskie</th>\n",
       "      <th>Świętokrzyskie</th>\n",
       "    </tr>\n",
       "  </thead>\n",
       "  <tbody>\n",
       "    <tr>\n",
       "      <th>109031</th>\n",
       "      <td>0</td>\n",
       "      <td>0</td>\n",
       "      <td>0</td>\n",
       "      <td>0</td>\n",
       "      <td>0</td>\n",
       "      <td>0</td>\n",
       "      <td>0</td>\n",
       "      <td>0</td>\n",
       "      <td>0</td>\n",
       "      <td>1</td>\n",
       "      <td>0</td>\n",
       "      <td>0</td>\n",
       "      <td>0</td>\n",
       "      <td>0</td>\n",
       "      <td>0</td>\n",
       "      <td>0</td>\n",
       "    </tr>\n",
       "    <tr>\n",
       "      <th>109032</th>\n",
       "      <td>0</td>\n",
       "      <td>0</td>\n",
       "      <td>0</td>\n",
       "      <td>0</td>\n",
       "      <td>1</td>\n",
       "      <td>0</td>\n",
       "      <td>0</td>\n",
       "      <td>0</td>\n",
       "      <td>0</td>\n",
       "      <td>0</td>\n",
       "      <td>0</td>\n",
       "      <td>0</td>\n",
       "      <td>0</td>\n",
       "      <td>0</td>\n",
       "      <td>0</td>\n",
       "      <td>0</td>\n",
       "    </tr>\n",
       "    <tr>\n",
       "      <th>109033</th>\n",
       "      <td>0</td>\n",
       "      <td>0</td>\n",
       "      <td>0</td>\n",
       "      <td>0</td>\n",
       "      <td>0</td>\n",
       "      <td>0</td>\n",
       "      <td>0</td>\n",
       "      <td>0</td>\n",
       "      <td>0</td>\n",
       "      <td>0</td>\n",
       "      <td>0</td>\n",
       "      <td>1</td>\n",
       "      <td>0</td>\n",
       "      <td>0</td>\n",
       "      <td>0</td>\n",
       "      <td>0</td>\n",
       "    </tr>\n",
       "    <tr>\n",
       "      <th>109034</th>\n",
       "      <td>0</td>\n",
       "      <td>0</td>\n",
       "      <td>1</td>\n",
       "      <td>0</td>\n",
       "      <td>0</td>\n",
       "      <td>0</td>\n",
       "      <td>0</td>\n",
       "      <td>0</td>\n",
       "      <td>0</td>\n",
       "      <td>0</td>\n",
       "      <td>0</td>\n",
       "      <td>0</td>\n",
       "      <td>0</td>\n",
       "      <td>0</td>\n",
       "      <td>0</td>\n",
       "      <td>0</td>\n",
       "    </tr>\n",
       "    <tr>\n",
       "      <th>109035</th>\n",
       "      <td>0</td>\n",
       "      <td>0</td>\n",
       "      <td>1</td>\n",
       "      <td>0</td>\n",
       "      <td>0</td>\n",
       "      <td>0</td>\n",
       "      <td>0</td>\n",
       "      <td>0</td>\n",
       "      <td>0</td>\n",
       "      <td>0</td>\n",
       "      <td>0</td>\n",
       "      <td>0</td>\n",
       "      <td>0</td>\n",
       "      <td>0</td>\n",
       "      <td>0</td>\n",
       "      <td>0</td>\n",
       "    </tr>\n",
       "  </tbody>\n",
       "</table>\n",
       "</div>"
      ],
      "text/plain": [
       "        Dolnośląskie  Kujawsko-pomorskie  Lubelskie  Lubuskie  Mazowieckie  \\\n",
       "109031             0                   0          0         0            0   \n",
       "109032             0                   0          0         0            1   \n",
       "109033             0                   0          0         0            0   \n",
       "109034             0                   0          1         0            0   \n",
       "109035             0                   0          1         0            0   \n",
       "\n",
       "        Małopolskie  Opolskie  Podkarpackie  Podlaskie  Pomorskie  \\\n",
       "109031            0         0             0          0          1   \n",
       "109032            0         0             0          0          0   \n",
       "109033            0         0             0          0          0   \n",
       "109034            0         0             0          0          0   \n",
       "109035            0         0             0          0          0   \n",
       "\n",
       "        Warmińsko-mazurskie  Wielkopolskie  Zachodniopomorskie  Łódzkie  \\\n",
       "109031                    0              0                   0        0   \n",
       "109032                    0              0                   0        0   \n",
       "109033                    0              1                   0        0   \n",
       "109034                    0              0                   0        0   \n",
       "109035                    0              0                   0        0   \n",
       "\n",
       "        Śląskie  Świętokrzyskie  \n",
       "109031        0               0  \n",
       "109032        0               0  \n",
       "109033        0               0  \n",
       "109034        0               0  \n",
       "109035        0               0  "
      ]
     },
     "execution_count": 14,
     "metadata": {},
     "output_type": "execute_result"
    }
   ],
   "source": [
    "dummies = pd.get_dummies(peugeot_2008['province'],drop_first=False)\n",
    "dummies.head()"
   ]
  },
  {
   "cell_type": "code",
   "execution_count": 15,
   "id": "d07d5999",
   "metadata": {},
   "outputs": [],
   "source": [
    "peugeot_2008.drop(columns='province', axis=1, inplace=True)"
   ]
  },
  {
   "cell_type": "code",
   "execution_count": 16,
   "id": "f1ce6447",
   "metadata": {},
   "outputs": [
    {
     "data": {
      "text/html": [
       "<div>\n",
       "<style scoped>\n",
       "    .dataframe tbody tr th:only-of-type {\n",
       "        vertical-align: middle;\n",
       "    }\n",
       "\n",
       "    .dataframe tbody tr th {\n",
       "        vertical-align: top;\n",
       "    }\n",
       "\n",
       "    .dataframe thead th {\n",
       "        text-align: right;\n",
       "    }\n",
       "</style>\n",
       "<table border=\"1\" class=\"dataframe\">\n",
       "  <thead>\n",
       "    <tr style=\"text-align: right;\">\n",
       "      <th></th>\n",
       "      <th>year</th>\n",
       "      <th>mileage</th>\n",
       "      <th>vol_engine</th>\n",
       "      <th>fuel</th>\n",
       "      <th>city</th>\n",
       "      <th>price</th>\n",
       "    </tr>\n",
       "  </thead>\n",
       "  <tbody>\n",
       "    <tr>\n",
       "      <th>109031</th>\n",
       "      <td>2020</td>\n",
       "      <td>2500</td>\n",
       "      <td>0</td>\n",
       "      <td>Electric</td>\n",
       "      <td>Gdańsk</td>\n",
       "      <td>145900</td>\n",
       "    </tr>\n",
       "    <tr>\n",
       "      <th>109032</th>\n",
       "      <td>2016</td>\n",
       "      <td>185000</td>\n",
       "      <td>1199</td>\n",
       "      <td>Gasoline</td>\n",
       "      <td>Ostrów Mazowiecka</td>\n",
       "      <td>29900</td>\n",
       "    </tr>\n",
       "    <tr>\n",
       "      <th>109033</th>\n",
       "      <td>2019</td>\n",
       "      <td>26125</td>\n",
       "      <td>1499</td>\n",
       "      <td>Diesel</td>\n",
       "      <td>Jankowo Dolne</td>\n",
       "      <td>37900</td>\n",
       "    </tr>\n",
       "    <tr>\n",
       "      <th>109034</th>\n",
       "      <td>2017</td>\n",
       "      <td>61206</td>\n",
       "      <td>1199</td>\n",
       "      <td>Gasoline</td>\n",
       "      <td>Lublin</td>\n",
       "      <td>62000</td>\n",
       "    </tr>\n",
       "    <tr>\n",
       "      <th>109035</th>\n",
       "      <td>2013</td>\n",
       "      <td>100000</td>\n",
       "      <td>1199</td>\n",
       "      <td>Gasoline</td>\n",
       "      <td>Biała Podlaska</td>\n",
       "      <td>39900</td>\n",
       "    </tr>\n",
       "  </tbody>\n",
       "</table>\n",
       "</div>"
      ],
      "text/plain": [
       "        year  mileage  vol_engine      fuel               city   price\n",
       "109031  2020     2500           0  Electric             Gdańsk  145900\n",
       "109032  2016   185000        1199  Gasoline  Ostrów Mazowiecka   29900\n",
       "109033  2019    26125        1499    Diesel      Jankowo Dolne   37900\n",
       "109034  2017    61206        1199  Gasoline             Lublin   62000\n",
       "109035  2013   100000        1199  Gasoline     Biała Podlaska   39900"
      ]
     },
     "execution_count": 16,
     "metadata": {},
     "output_type": "execute_result"
    }
   ],
   "source": [
    "peugeot_2008.head()"
   ]
  },
  {
   "cell_type": "code",
   "execution_count": 17,
   "id": "e2323188",
   "metadata": {},
   "outputs": [
    {
     "data": {
      "text/html": [
       "<div>\n",
       "<style scoped>\n",
       "    .dataframe tbody tr th:only-of-type {\n",
       "        vertical-align: middle;\n",
       "    }\n",
       "\n",
       "    .dataframe tbody tr th {\n",
       "        vertical-align: top;\n",
       "    }\n",
       "\n",
       "    .dataframe thead th {\n",
       "        text-align: right;\n",
       "    }\n",
       "</style>\n",
       "<table border=\"1\" class=\"dataframe\">\n",
       "  <thead>\n",
       "    <tr style=\"text-align: right;\">\n",
       "      <th></th>\n",
       "      <th>year</th>\n",
       "      <th>mileage</th>\n",
       "      <th>vol_engine</th>\n",
       "      <th>fuel</th>\n",
       "      <th>city</th>\n",
       "      <th>price</th>\n",
       "      <th>Dolnośląskie</th>\n",
       "      <th>Kujawsko-pomorskie</th>\n",
       "      <th>Lubelskie</th>\n",
       "      <th>Lubuskie</th>\n",
       "      <th>...</th>\n",
       "      <th>Opolskie</th>\n",
       "      <th>Podkarpackie</th>\n",
       "      <th>Podlaskie</th>\n",
       "      <th>Pomorskie</th>\n",
       "      <th>Warmińsko-mazurskie</th>\n",
       "      <th>Wielkopolskie</th>\n",
       "      <th>Zachodniopomorskie</th>\n",
       "      <th>Łódzkie</th>\n",
       "      <th>Śląskie</th>\n",
       "      <th>Świętokrzyskie</th>\n",
       "    </tr>\n",
       "  </thead>\n",
       "  <tbody>\n",
       "    <tr>\n",
       "      <th>109031</th>\n",
       "      <td>2020</td>\n",
       "      <td>2500</td>\n",
       "      <td>0</td>\n",
       "      <td>Electric</td>\n",
       "      <td>Gdańsk</td>\n",
       "      <td>145900</td>\n",
       "      <td>0</td>\n",
       "      <td>0</td>\n",
       "      <td>0</td>\n",
       "      <td>0</td>\n",
       "      <td>...</td>\n",
       "      <td>0</td>\n",
       "      <td>0</td>\n",
       "      <td>0</td>\n",
       "      <td>1</td>\n",
       "      <td>0</td>\n",
       "      <td>0</td>\n",
       "      <td>0</td>\n",
       "      <td>0</td>\n",
       "      <td>0</td>\n",
       "      <td>0</td>\n",
       "    </tr>\n",
       "    <tr>\n",
       "      <th>109032</th>\n",
       "      <td>2016</td>\n",
       "      <td>185000</td>\n",
       "      <td>1199</td>\n",
       "      <td>Gasoline</td>\n",
       "      <td>Ostrów Mazowiecka</td>\n",
       "      <td>29900</td>\n",
       "      <td>0</td>\n",
       "      <td>0</td>\n",
       "      <td>0</td>\n",
       "      <td>0</td>\n",
       "      <td>...</td>\n",
       "      <td>0</td>\n",
       "      <td>0</td>\n",
       "      <td>0</td>\n",
       "      <td>0</td>\n",
       "      <td>0</td>\n",
       "      <td>0</td>\n",
       "      <td>0</td>\n",
       "      <td>0</td>\n",
       "      <td>0</td>\n",
       "      <td>0</td>\n",
       "    </tr>\n",
       "    <tr>\n",
       "      <th>109033</th>\n",
       "      <td>2019</td>\n",
       "      <td>26125</td>\n",
       "      <td>1499</td>\n",
       "      <td>Diesel</td>\n",
       "      <td>Jankowo Dolne</td>\n",
       "      <td>37900</td>\n",
       "      <td>0</td>\n",
       "      <td>0</td>\n",
       "      <td>0</td>\n",
       "      <td>0</td>\n",
       "      <td>...</td>\n",
       "      <td>0</td>\n",
       "      <td>0</td>\n",
       "      <td>0</td>\n",
       "      <td>0</td>\n",
       "      <td>0</td>\n",
       "      <td>1</td>\n",
       "      <td>0</td>\n",
       "      <td>0</td>\n",
       "      <td>0</td>\n",
       "      <td>0</td>\n",
       "    </tr>\n",
       "    <tr>\n",
       "      <th>109034</th>\n",
       "      <td>2017</td>\n",
       "      <td>61206</td>\n",
       "      <td>1199</td>\n",
       "      <td>Gasoline</td>\n",
       "      <td>Lublin</td>\n",
       "      <td>62000</td>\n",
       "      <td>0</td>\n",
       "      <td>0</td>\n",
       "      <td>1</td>\n",
       "      <td>0</td>\n",
       "      <td>...</td>\n",
       "      <td>0</td>\n",
       "      <td>0</td>\n",
       "      <td>0</td>\n",
       "      <td>0</td>\n",
       "      <td>0</td>\n",
       "      <td>0</td>\n",
       "      <td>0</td>\n",
       "      <td>0</td>\n",
       "      <td>0</td>\n",
       "      <td>0</td>\n",
       "    </tr>\n",
       "    <tr>\n",
       "      <th>109035</th>\n",
       "      <td>2013</td>\n",
       "      <td>100000</td>\n",
       "      <td>1199</td>\n",
       "      <td>Gasoline</td>\n",
       "      <td>Biała Podlaska</td>\n",
       "      <td>39900</td>\n",
       "      <td>0</td>\n",
       "      <td>0</td>\n",
       "      <td>1</td>\n",
       "      <td>0</td>\n",
       "      <td>...</td>\n",
       "      <td>0</td>\n",
       "      <td>0</td>\n",
       "      <td>0</td>\n",
       "      <td>0</td>\n",
       "      <td>0</td>\n",
       "      <td>0</td>\n",
       "      <td>0</td>\n",
       "      <td>0</td>\n",
       "      <td>0</td>\n",
       "      <td>0</td>\n",
       "    </tr>\n",
       "  </tbody>\n",
       "</table>\n",
       "<p>5 rows × 22 columns</p>\n",
       "</div>"
      ],
      "text/plain": [
       "        year  mileage  vol_engine      fuel               city   price  \\\n",
       "109031  2020     2500           0  Electric             Gdańsk  145900   \n",
       "109032  2016   185000        1199  Gasoline  Ostrów Mazowiecka   29900   \n",
       "109033  2019    26125        1499    Diesel      Jankowo Dolne   37900   \n",
       "109034  2017    61206        1199  Gasoline             Lublin   62000   \n",
       "109035  2013   100000        1199  Gasoline     Biała Podlaska   39900   \n",
       "\n",
       "        Dolnośląskie  Kujawsko-pomorskie  Lubelskie  Lubuskie  ...  Opolskie  \\\n",
       "109031             0                   0          0         0  ...         0   \n",
       "109032             0                   0          0         0  ...         0   \n",
       "109033             0                   0          0         0  ...         0   \n",
       "109034             0                   0          1         0  ...         0   \n",
       "109035             0                   0          1         0  ...         0   \n",
       "\n",
       "        Podkarpackie  Podlaskie  Pomorskie  Warmińsko-mazurskie  \\\n",
       "109031             0          0          1                    0   \n",
       "109032             0          0          0                    0   \n",
       "109033             0          0          0                    0   \n",
       "109034             0          0          0                    0   \n",
       "109035             0          0          0                    0   \n",
       "\n",
       "        Wielkopolskie  Zachodniopomorskie  Łódzkie  Śląskie  Świętokrzyskie  \n",
       "109031              0                   0        0        0               0  \n",
       "109032              0                   0        0        0               0  \n",
       "109033              1                   0        0        0               0  \n",
       "109034              0                   0        0        0               0  \n",
       "109035              0                   0        0        0               0  \n",
       "\n",
       "[5 rows x 22 columns]"
      ]
     },
     "execution_count": 17,
     "metadata": {},
     "output_type": "execute_result"
    }
   ],
   "source": [
    "peugeot_2008 = peugeot_2008.join(dummies)\n",
    "peugeot_2008.head()"
   ]
  },
  {
   "cell_type": "code",
   "execution_count": 18,
   "id": "f9100ccd",
   "metadata": {},
   "outputs": [
    {
     "name": "stdout",
     "output_type": "stream",
     "text": [
      "<class 'pandas.core.frame.DataFrame'>\n",
      "Int64Index: 448 entries, 109031 to 109478\n",
      "Data columns (total 22 columns):\n",
      " #   Column               Non-Null Count  Dtype \n",
      "---  ------               --------------  ----- \n",
      " 0   year                 448 non-null    int64 \n",
      " 1   mileage              448 non-null    int64 \n",
      " 2   vol_engine           448 non-null    int64 \n",
      " 3   fuel                 448 non-null    object\n",
      " 4   city                 448 non-null    object\n",
      " 5   price                448 non-null    int64 \n",
      " 6   Dolnośląskie         448 non-null    uint8 \n",
      " 7   Kujawsko-pomorskie   448 non-null    uint8 \n",
      " 8   Lubelskie            448 non-null    uint8 \n",
      " 9   Lubuskie             448 non-null    uint8 \n",
      " 10  Mazowieckie          448 non-null    uint8 \n",
      " 11  Małopolskie          448 non-null    uint8 \n",
      " 12  Opolskie             448 non-null    uint8 \n",
      " 13  Podkarpackie         448 non-null    uint8 \n",
      " 14  Podlaskie            448 non-null    uint8 \n",
      " 15  Pomorskie            448 non-null    uint8 \n",
      " 16  Warmińsko-mazurskie  448 non-null    uint8 \n",
      " 17  Wielkopolskie        448 non-null    uint8 \n",
      " 18  Zachodniopomorskie   448 non-null    uint8 \n",
      " 19  Łódzkie              448 non-null    uint8 \n",
      " 20  Śląskie              448 non-null    uint8 \n",
      " 21  Świętokrzyskie       448 non-null    uint8 \n",
      "dtypes: int64(4), object(2), uint8(16)\n",
      "memory usage: 47.7+ KB\n"
     ]
    }
   ],
   "source": [
    "peugeot_2008.info()"
   ]
  },
  {
   "cell_type": "code",
   "execution_count": 19,
   "id": "8adcc430",
   "metadata": {},
   "outputs": [
    {
     "data": {
      "text/plain": [
       "168"
      ]
     },
     "execution_count": 19,
     "metadata": {},
     "output_type": "execute_result"
    }
   ],
   "source": [
    "peugeot_2008['city'].nunique()"
   ]
  },
  {
   "cell_type": "markdown",
   "id": "ed628128",
   "metadata": {},
   "source": [
    "As we can see number of unique cities in dataset is 168 it means we will delete this feature because it's not going to provide our model to perform better based on weights of this feature"
   ]
  },
  {
   "cell_type": "code",
   "execution_count": 20,
   "id": "e5dc5ec8",
   "metadata": {},
   "outputs": [],
   "source": [
    "peugeot_2008.drop(axis=1, columns='city', inplace=True)"
   ]
  },
  {
   "cell_type": "code",
   "execution_count": 21,
   "id": "e7821859",
   "metadata": {},
   "outputs": [
    {
     "data": {
      "text/html": [
       "<div>\n",
       "<style scoped>\n",
       "    .dataframe tbody tr th:only-of-type {\n",
       "        vertical-align: middle;\n",
       "    }\n",
       "\n",
       "    .dataframe tbody tr th {\n",
       "        vertical-align: top;\n",
       "    }\n",
       "\n",
       "    .dataframe thead th {\n",
       "        text-align: right;\n",
       "    }\n",
       "</style>\n",
       "<table border=\"1\" class=\"dataframe\">\n",
       "  <thead>\n",
       "    <tr style=\"text-align: right;\">\n",
       "      <th></th>\n",
       "      <th>year</th>\n",
       "      <th>mileage</th>\n",
       "      <th>vol_engine</th>\n",
       "      <th>fuel</th>\n",
       "      <th>price</th>\n",
       "      <th>Dolnośląskie</th>\n",
       "      <th>Kujawsko-pomorskie</th>\n",
       "      <th>Lubelskie</th>\n",
       "      <th>Lubuskie</th>\n",
       "      <th>Mazowieckie</th>\n",
       "      <th>...</th>\n",
       "      <th>Opolskie</th>\n",
       "      <th>Podkarpackie</th>\n",
       "      <th>Podlaskie</th>\n",
       "      <th>Pomorskie</th>\n",
       "      <th>Warmińsko-mazurskie</th>\n",
       "      <th>Wielkopolskie</th>\n",
       "      <th>Zachodniopomorskie</th>\n",
       "      <th>Łódzkie</th>\n",
       "      <th>Śląskie</th>\n",
       "      <th>Świętokrzyskie</th>\n",
       "    </tr>\n",
       "  </thead>\n",
       "  <tbody>\n",
       "    <tr>\n",
       "      <th>109031</th>\n",
       "      <td>2020</td>\n",
       "      <td>2500</td>\n",
       "      <td>0</td>\n",
       "      <td>Electric</td>\n",
       "      <td>145900</td>\n",
       "      <td>0</td>\n",
       "      <td>0</td>\n",
       "      <td>0</td>\n",
       "      <td>0</td>\n",
       "      <td>0</td>\n",
       "      <td>...</td>\n",
       "      <td>0</td>\n",
       "      <td>0</td>\n",
       "      <td>0</td>\n",
       "      <td>1</td>\n",
       "      <td>0</td>\n",
       "      <td>0</td>\n",
       "      <td>0</td>\n",
       "      <td>0</td>\n",
       "      <td>0</td>\n",
       "      <td>0</td>\n",
       "    </tr>\n",
       "    <tr>\n",
       "      <th>109032</th>\n",
       "      <td>2016</td>\n",
       "      <td>185000</td>\n",
       "      <td>1199</td>\n",
       "      <td>Gasoline</td>\n",
       "      <td>29900</td>\n",
       "      <td>0</td>\n",
       "      <td>0</td>\n",
       "      <td>0</td>\n",
       "      <td>0</td>\n",
       "      <td>1</td>\n",
       "      <td>...</td>\n",
       "      <td>0</td>\n",
       "      <td>0</td>\n",
       "      <td>0</td>\n",
       "      <td>0</td>\n",
       "      <td>0</td>\n",
       "      <td>0</td>\n",
       "      <td>0</td>\n",
       "      <td>0</td>\n",
       "      <td>0</td>\n",
       "      <td>0</td>\n",
       "    </tr>\n",
       "    <tr>\n",
       "      <th>109033</th>\n",
       "      <td>2019</td>\n",
       "      <td>26125</td>\n",
       "      <td>1499</td>\n",
       "      <td>Diesel</td>\n",
       "      <td>37900</td>\n",
       "      <td>0</td>\n",
       "      <td>0</td>\n",
       "      <td>0</td>\n",
       "      <td>0</td>\n",
       "      <td>0</td>\n",
       "      <td>...</td>\n",
       "      <td>0</td>\n",
       "      <td>0</td>\n",
       "      <td>0</td>\n",
       "      <td>0</td>\n",
       "      <td>0</td>\n",
       "      <td>1</td>\n",
       "      <td>0</td>\n",
       "      <td>0</td>\n",
       "      <td>0</td>\n",
       "      <td>0</td>\n",
       "    </tr>\n",
       "    <tr>\n",
       "      <th>109034</th>\n",
       "      <td>2017</td>\n",
       "      <td>61206</td>\n",
       "      <td>1199</td>\n",
       "      <td>Gasoline</td>\n",
       "      <td>62000</td>\n",
       "      <td>0</td>\n",
       "      <td>0</td>\n",
       "      <td>1</td>\n",
       "      <td>0</td>\n",
       "      <td>0</td>\n",
       "      <td>...</td>\n",
       "      <td>0</td>\n",
       "      <td>0</td>\n",
       "      <td>0</td>\n",
       "      <td>0</td>\n",
       "      <td>0</td>\n",
       "      <td>0</td>\n",
       "      <td>0</td>\n",
       "      <td>0</td>\n",
       "      <td>0</td>\n",
       "      <td>0</td>\n",
       "    </tr>\n",
       "    <tr>\n",
       "      <th>109035</th>\n",
       "      <td>2013</td>\n",
       "      <td>100000</td>\n",
       "      <td>1199</td>\n",
       "      <td>Gasoline</td>\n",
       "      <td>39900</td>\n",
       "      <td>0</td>\n",
       "      <td>0</td>\n",
       "      <td>1</td>\n",
       "      <td>0</td>\n",
       "      <td>0</td>\n",
       "      <td>...</td>\n",
       "      <td>0</td>\n",
       "      <td>0</td>\n",
       "      <td>0</td>\n",
       "      <td>0</td>\n",
       "      <td>0</td>\n",
       "      <td>0</td>\n",
       "      <td>0</td>\n",
       "      <td>0</td>\n",
       "      <td>0</td>\n",
       "      <td>0</td>\n",
       "    </tr>\n",
       "  </tbody>\n",
       "</table>\n",
       "<p>5 rows × 21 columns</p>\n",
       "</div>"
      ],
      "text/plain": [
       "        year  mileage  vol_engine      fuel   price  Dolnośląskie  \\\n",
       "109031  2020     2500           0  Electric  145900             0   \n",
       "109032  2016   185000        1199  Gasoline   29900             0   \n",
       "109033  2019    26125        1499    Diesel   37900             0   \n",
       "109034  2017    61206        1199  Gasoline   62000             0   \n",
       "109035  2013   100000        1199  Gasoline   39900             0   \n",
       "\n",
       "        Kujawsko-pomorskie  Lubelskie  Lubuskie  Mazowieckie  ...  Opolskie  \\\n",
       "109031                   0          0         0            0  ...         0   \n",
       "109032                   0          0         0            1  ...         0   \n",
       "109033                   0          0         0            0  ...         0   \n",
       "109034                   0          1         0            0  ...         0   \n",
       "109035                   0          1         0            0  ...         0   \n",
       "\n",
       "        Podkarpackie  Podlaskie  Pomorskie  Warmińsko-mazurskie  \\\n",
       "109031             0          0          1                    0   \n",
       "109032             0          0          0                    0   \n",
       "109033             0          0          0                    0   \n",
       "109034             0          0          0                    0   \n",
       "109035             0          0          0                    0   \n",
       "\n",
       "        Wielkopolskie  Zachodniopomorskie  Łódzkie  Śląskie  Świętokrzyskie  \n",
       "109031              0                   0        0        0               0  \n",
       "109032              0                   0        0        0               0  \n",
       "109033              1                   0        0        0               0  \n",
       "109034              0                   0        0        0               0  \n",
       "109035              0                   0        0        0               0  \n",
       "\n",
       "[5 rows x 21 columns]"
      ]
     },
     "execution_count": 21,
     "metadata": {},
     "output_type": "execute_result"
    }
   ],
   "source": [
    "peugeot_2008.head()"
   ]
  },
  {
   "cell_type": "code",
   "execution_count": 22,
   "id": "5e5c9152",
   "metadata": {},
   "outputs": [
    {
     "data": {
      "text/html": [
       "<div>\n",
       "<style scoped>\n",
       "    .dataframe tbody tr th:only-of-type {\n",
       "        vertical-align: middle;\n",
       "    }\n",
       "\n",
       "    .dataframe tbody tr th {\n",
       "        vertical-align: top;\n",
       "    }\n",
       "\n",
       "    .dataframe thead th {\n",
       "        text-align: right;\n",
       "    }\n",
       "</style>\n",
       "<table border=\"1\" class=\"dataframe\">\n",
       "  <thead>\n",
       "    <tr style=\"text-align: right;\">\n",
       "      <th></th>\n",
       "      <th>Diesel</th>\n",
       "      <th>Electric</th>\n",
       "      <th>Gasoline</th>\n",
       "      <th>LPG</th>\n",
       "    </tr>\n",
       "  </thead>\n",
       "  <tbody>\n",
       "    <tr>\n",
       "      <th>109031</th>\n",
       "      <td>0</td>\n",
       "      <td>1</td>\n",
       "      <td>0</td>\n",
       "      <td>0</td>\n",
       "    </tr>\n",
       "    <tr>\n",
       "      <th>109032</th>\n",
       "      <td>0</td>\n",
       "      <td>0</td>\n",
       "      <td>1</td>\n",
       "      <td>0</td>\n",
       "    </tr>\n",
       "    <tr>\n",
       "      <th>109033</th>\n",
       "      <td>1</td>\n",
       "      <td>0</td>\n",
       "      <td>0</td>\n",
       "      <td>0</td>\n",
       "    </tr>\n",
       "    <tr>\n",
       "      <th>109034</th>\n",
       "      <td>0</td>\n",
       "      <td>0</td>\n",
       "      <td>1</td>\n",
       "      <td>0</td>\n",
       "    </tr>\n",
       "    <tr>\n",
       "      <th>109035</th>\n",
       "      <td>0</td>\n",
       "      <td>0</td>\n",
       "      <td>1</td>\n",
       "      <td>0</td>\n",
       "    </tr>\n",
       "  </tbody>\n",
       "</table>\n",
       "</div>"
      ],
      "text/plain": [
       "        Diesel  Electric  Gasoline  LPG\n",
       "109031       0         1         0    0\n",
       "109032       0         0         1    0\n",
       "109033       1         0         0    0\n",
       "109034       0         0         1    0\n",
       "109035       0         0         1    0"
      ]
     },
     "execution_count": 22,
     "metadata": {},
     "output_type": "execute_result"
    }
   ],
   "source": [
    "engine_dummies = pd.get_dummies(peugeot_2008['fuel'])\n",
    "engine_dummies.head()"
   ]
  },
  {
   "cell_type": "code",
   "execution_count": 23,
   "id": "5436e3ab",
   "metadata": {},
   "outputs": [],
   "source": [
    "peugeot_2008 = peugeot_2008.join(engine_dummies)\n",
    "peugeot_2008.drop(inplace=True, axis=1, columns='fuel')"
   ]
  },
  {
   "cell_type": "code",
   "execution_count": 24,
   "id": "1fb79f20",
   "metadata": {},
   "outputs": [
    {
     "data": {
      "text/html": [
       "<div>\n",
       "<style scoped>\n",
       "    .dataframe tbody tr th:only-of-type {\n",
       "        vertical-align: middle;\n",
       "    }\n",
       "\n",
       "    .dataframe tbody tr th {\n",
       "        vertical-align: top;\n",
       "    }\n",
       "\n",
       "    .dataframe thead th {\n",
       "        text-align: right;\n",
       "    }\n",
       "</style>\n",
       "<table border=\"1\" class=\"dataframe\">\n",
       "  <thead>\n",
       "    <tr style=\"text-align: right;\">\n",
       "      <th></th>\n",
       "      <th>year</th>\n",
       "      <th>mileage</th>\n",
       "      <th>vol_engine</th>\n",
       "      <th>price</th>\n",
       "      <th>Dolnośląskie</th>\n",
       "      <th>Kujawsko-pomorskie</th>\n",
       "      <th>Lubelskie</th>\n",
       "      <th>Lubuskie</th>\n",
       "      <th>Mazowieckie</th>\n",
       "      <th>Małopolskie</th>\n",
       "      <th>...</th>\n",
       "      <th>Warmińsko-mazurskie</th>\n",
       "      <th>Wielkopolskie</th>\n",
       "      <th>Zachodniopomorskie</th>\n",
       "      <th>Łódzkie</th>\n",
       "      <th>Śląskie</th>\n",
       "      <th>Świętokrzyskie</th>\n",
       "      <th>Diesel</th>\n",
       "      <th>Electric</th>\n",
       "      <th>Gasoline</th>\n",
       "      <th>LPG</th>\n",
       "    </tr>\n",
       "  </thead>\n",
       "  <tbody>\n",
       "    <tr>\n",
       "      <th>109031</th>\n",
       "      <td>2020</td>\n",
       "      <td>2500</td>\n",
       "      <td>0</td>\n",
       "      <td>145900</td>\n",
       "      <td>0</td>\n",
       "      <td>0</td>\n",
       "      <td>0</td>\n",
       "      <td>0</td>\n",
       "      <td>0</td>\n",
       "      <td>0</td>\n",
       "      <td>...</td>\n",
       "      <td>0</td>\n",
       "      <td>0</td>\n",
       "      <td>0</td>\n",
       "      <td>0</td>\n",
       "      <td>0</td>\n",
       "      <td>0</td>\n",
       "      <td>0</td>\n",
       "      <td>1</td>\n",
       "      <td>0</td>\n",
       "      <td>0</td>\n",
       "    </tr>\n",
       "    <tr>\n",
       "      <th>109032</th>\n",
       "      <td>2016</td>\n",
       "      <td>185000</td>\n",
       "      <td>1199</td>\n",
       "      <td>29900</td>\n",
       "      <td>0</td>\n",
       "      <td>0</td>\n",
       "      <td>0</td>\n",
       "      <td>0</td>\n",
       "      <td>1</td>\n",
       "      <td>0</td>\n",
       "      <td>...</td>\n",
       "      <td>0</td>\n",
       "      <td>0</td>\n",
       "      <td>0</td>\n",
       "      <td>0</td>\n",
       "      <td>0</td>\n",
       "      <td>0</td>\n",
       "      <td>0</td>\n",
       "      <td>0</td>\n",
       "      <td>1</td>\n",
       "      <td>0</td>\n",
       "    </tr>\n",
       "    <tr>\n",
       "      <th>109033</th>\n",
       "      <td>2019</td>\n",
       "      <td>26125</td>\n",
       "      <td>1499</td>\n",
       "      <td>37900</td>\n",
       "      <td>0</td>\n",
       "      <td>0</td>\n",
       "      <td>0</td>\n",
       "      <td>0</td>\n",
       "      <td>0</td>\n",
       "      <td>0</td>\n",
       "      <td>...</td>\n",
       "      <td>0</td>\n",
       "      <td>1</td>\n",
       "      <td>0</td>\n",
       "      <td>0</td>\n",
       "      <td>0</td>\n",
       "      <td>0</td>\n",
       "      <td>1</td>\n",
       "      <td>0</td>\n",
       "      <td>0</td>\n",
       "      <td>0</td>\n",
       "    </tr>\n",
       "    <tr>\n",
       "      <th>109034</th>\n",
       "      <td>2017</td>\n",
       "      <td>61206</td>\n",
       "      <td>1199</td>\n",
       "      <td>62000</td>\n",
       "      <td>0</td>\n",
       "      <td>0</td>\n",
       "      <td>1</td>\n",
       "      <td>0</td>\n",
       "      <td>0</td>\n",
       "      <td>0</td>\n",
       "      <td>...</td>\n",
       "      <td>0</td>\n",
       "      <td>0</td>\n",
       "      <td>0</td>\n",
       "      <td>0</td>\n",
       "      <td>0</td>\n",
       "      <td>0</td>\n",
       "      <td>0</td>\n",
       "      <td>0</td>\n",
       "      <td>1</td>\n",
       "      <td>0</td>\n",
       "    </tr>\n",
       "    <tr>\n",
       "      <th>109035</th>\n",
       "      <td>2013</td>\n",
       "      <td>100000</td>\n",
       "      <td>1199</td>\n",
       "      <td>39900</td>\n",
       "      <td>0</td>\n",
       "      <td>0</td>\n",
       "      <td>1</td>\n",
       "      <td>0</td>\n",
       "      <td>0</td>\n",
       "      <td>0</td>\n",
       "      <td>...</td>\n",
       "      <td>0</td>\n",
       "      <td>0</td>\n",
       "      <td>0</td>\n",
       "      <td>0</td>\n",
       "      <td>0</td>\n",
       "      <td>0</td>\n",
       "      <td>0</td>\n",
       "      <td>0</td>\n",
       "      <td>1</td>\n",
       "      <td>0</td>\n",
       "    </tr>\n",
       "  </tbody>\n",
       "</table>\n",
       "<p>5 rows × 24 columns</p>\n",
       "</div>"
      ],
      "text/plain": [
       "        year  mileage  vol_engine   price  Dolnośląskie  Kujawsko-pomorskie  \\\n",
       "109031  2020     2500           0  145900             0                   0   \n",
       "109032  2016   185000        1199   29900             0                   0   \n",
       "109033  2019    26125        1499   37900             0                   0   \n",
       "109034  2017    61206        1199   62000             0                   0   \n",
       "109035  2013   100000        1199   39900             0                   0   \n",
       "\n",
       "        Lubelskie  Lubuskie  Mazowieckie  Małopolskie  ...  \\\n",
       "109031          0         0            0            0  ...   \n",
       "109032          0         0            1            0  ...   \n",
       "109033          0         0            0            0  ...   \n",
       "109034          1         0            0            0  ...   \n",
       "109035          1         0            0            0  ...   \n",
       "\n",
       "        Warmińsko-mazurskie  Wielkopolskie  Zachodniopomorskie  Łódzkie  \\\n",
       "109031                    0              0                   0        0   \n",
       "109032                    0              0                   0        0   \n",
       "109033                    0              1                   0        0   \n",
       "109034                    0              0                   0        0   \n",
       "109035                    0              0                   0        0   \n",
       "\n",
       "        Śląskie  Świętokrzyskie  Diesel  Electric  Gasoline  LPG  \n",
       "109031        0               0       0         1         0    0  \n",
       "109032        0               0       0         0         1    0  \n",
       "109033        0               0       1         0         0    0  \n",
       "109034        0               0       0         0         1    0  \n",
       "109035        0               0       0         0         1    0  \n",
       "\n",
       "[5 rows x 24 columns]"
      ]
     },
     "execution_count": 24,
     "metadata": {},
     "output_type": "execute_result"
    }
   ],
   "source": [
    "peugeot_2008.head()"
   ]
  },
  {
   "cell_type": "code",
   "execution_count": 25,
   "id": "faf9723a",
   "metadata": {},
   "outputs": [],
   "source": [
    "y = peugeot_2008['price']\n",
    "peugeot_2008.drop('price', inplace=True, axis=1)\n",
    "X = peugeot_2008"
   ]
  },
  {
   "cell_type": "code",
   "execution_count": 26,
   "id": "a7737720",
   "metadata": {},
   "outputs": [
    {
     "data": {
      "text/html": [
       "<div>\n",
       "<style scoped>\n",
       "    .dataframe tbody tr th:only-of-type {\n",
       "        vertical-align: middle;\n",
       "    }\n",
       "\n",
       "    .dataframe tbody tr th {\n",
       "        vertical-align: top;\n",
       "    }\n",
       "\n",
       "    .dataframe thead th {\n",
       "        text-align: right;\n",
       "    }\n",
       "</style>\n",
       "<table border=\"1\" class=\"dataframe\">\n",
       "  <thead>\n",
       "    <tr style=\"text-align: right;\">\n",
       "      <th></th>\n",
       "      <th>year</th>\n",
       "      <th>mileage</th>\n",
       "      <th>vol_engine</th>\n",
       "      <th>Dolnośląskie</th>\n",
       "      <th>Kujawsko-pomorskie</th>\n",
       "      <th>Lubelskie</th>\n",
       "      <th>Lubuskie</th>\n",
       "      <th>Mazowieckie</th>\n",
       "      <th>Małopolskie</th>\n",
       "      <th>Opolskie</th>\n",
       "      <th>...</th>\n",
       "      <th>Warmińsko-mazurskie</th>\n",
       "      <th>Wielkopolskie</th>\n",
       "      <th>Zachodniopomorskie</th>\n",
       "      <th>Łódzkie</th>\n",
       "      <th>Śląskie</th>\n",
       "      <th>Świętokrzyskie</th>\n",
       "      <th>Diesel</th>\n",
       "      <th>Electric</th>\n",
       "      <th>Gasoline</th>\n",
       "      <th>LPG</th>\n",
       "    </tr>\n",
       "  </thead>\n",
       "  <tbody>\n",
       "    <tr>\n",
       "      <th>109031</th>\n",
       "      <td>2020</td>\n",
       "      <td>2500</td>\n",
       "      <td>0</td>\n",
       "      <td>0</td>\n",
       "      <td>0</td>\n",
       "      <td>0</td>\n",
       "      <td>0</td>\n",
       "      <td>0</td>\n",
       "      <td>0</td>\n",
       "      <td>0</td>\n",
       "      <td>...</td>\n",
       "      <td>0</td>\n",
       "      <td>0</td>\n",
       "      <td>0</td>\n",
       "      <td>0</td>\n",
       "      <td>0</td>\n",
       "      <td>0</td>\n",
       "      <td>0</td>\n",
       "      <td>1</td>\n",
       "      <td>0</td>\n",
       "      <td>0</td>\n",
       "    </tr>\n",
       "    <tr>\n",
       "      <th>109032</th>\n",
       "      <td>2016</td>\n",
       "      <td>185000</td>\n",
       "      <td>1199</td>\n",
       "      <td>0</td>\n",
       "      <td>0</td>\n",
       "      <td>0</td>\n",
       "      <td>0</td>\n",
       "      <td>1</td>\n",
       "      <td>0</td>\n",
       "      <td>0</td>\n",
       "      <td>...</td>\n",
       "      <td>0</td>\n",
       "      <td>0</td>\n",
       "      <td>0</td>\n",
       "      <td>0</td>\n",
       "      <td>0</td>\n",
       "      <td>0</td>\n",
       "      <td>0</td>\n",
       "      <td>0</td>\n",
       "      <td>1</td>\n",
       "      <td>0</td>\n",
       "    </tr>\n",
       "    <tr>\n",
       "      <th>109033</th>\n",
       "      <td>2019</td>\n",
       "      <td>26125</td>\n",
       "      <td>1499</td>\n",
       "      <td>0</td>\n",
       "      <td>0</td>\n",
       "      <td>0</td>\n",
       "      <td>0</td>\n",
       "      <td>0</td>\n",
       "      <td>0</td>\n",
       "      <td>0</td>\n",
       "      <td>...</td>\n",
       "      <td>0</td>\n",
       "      <td>1</td>\n",
       "      <td>0</td>\n",
       "      <td>0</td>\n",
       "      <td>0</td>\n",
       "      <td>0</td>\n",
       "      <td>1</td>\n",
       "      <td>0</td>\n",
       "      <td>0</td>\n",
       "      <td>0</td>\n",
       "    </tr>\n",
       "    <tr>\n",
       "      <th>109034</th>\n",
       "      <td>2017</td>\n",
       "      <td>61206</td>\n",
       "      <td>1199</td>\n",
       "      <td>0</td>\n",
       "      <td>0</td>\n",
       "      <td>1</td>\n",
       "      <td>0</td>\n",
       "      <td>0</td>\n",
       "      <td>0</td>\n",
       "      <td>0</td>\n",
       "      <td>...</td>\n",
       "      <td>0</td>\n",
       "      <td>0</td>\n",
       "      <td>0</td>\n",
       "      <td>0</td>\n",
       "      <td>0</td>\n",
       "      <td>0</td>\n",
       "      <td>0</td>\n",
       "      <td>0</td>\n",
       "      <td>1</td>\n",
       "      <td>0</td>\n",
       "    </tr>\n",
       "    <tr>\n",
       "      <th>109035</th>\n",
       "      <td>2013</td>\n",
       "      <td>100000</td>\n",
       "      <td>1199</td>\n",
       "      <td>0</td>\n",
       "      <td>0</td>\n",
       "      <td>1</td>\n",
       "      <td>0</td>\n",
       "      <td>0</td>\n",
       "      <td>0</td>\n",
       "      <td>0</td>\n",
       "      <td>...</td>\n",
       "      <td>0</td>\n",
       "      <td>0</td>\n",
       "      <td>0</td>\n",
       "      <td>0</td>\n",
       "      <td>0</td>\n",
       "      <td>0</td>\n",
       "      <td>0</td>\n",
       "      <td>0</td>\n",
       "      <td>1</td>\n",
       "      <td>0</td>\n",
       "    </tr>\n",
       "  </tbody>\n",
       "</table>\n",
       "<p>5 rows × 23 columns</p>\n",
       "</div>"
      ],
      "text/plain": [
       "        year  mileage  vol_engine  Dolnośląskie  Kujawsko-pomorskie  \\\n",
       "109031  2020     2500           0             0                   0   \n",
       "109032  2016   185000        1199             0                   0   \n",
       "109033  2019    26125        1499             0                   0   \n",
       "109034  2017    61206        1199             0                   0   \n",
       "109035  2013   100000        1199             0                   0   \n",
       "\n",
       "        Lubelskie  Lubuskie  Mazowieckie  Małopolskie  Opolskie  ...  \\\n",
       "109031          0         0            0            0         0  ...   \n",
       "109032          0         0            1            0         0  ...   \n",
       "109033          0         0            0            0         0  ...   \n",
       "109034          1         0            0            0         0  ...   \n",
       "109035          1         0            0            0         0  ...   \n",
       "\n",
       "        Warmińsko-mazurskie  Wielkopolskie  Zachodniopomorskie  Łódzkie  \\\n",
       "109031                    0              0                   0        0   \n",
       "109032                    0              0                   0        0   \n",
       "109033                    0              1                   0        0   \n",
       "109034                    0              0                   0        0   \n",
       "109035                    0              0                   0        0   \n",
       "\n",
       "        Śląskie  Świętokrzyskie  Diesel  Electric  Gasoline  LPG  \n",
       "109031        0               0       0         1         0    0  \n",
       "109032        0               0       0         0         1    0  \n",
       "109033        0               0       1         0         0    0  \n",
       "109034        0               0       0         0         1    0  \n",
       "109035        0               0       0         0         1    0  \n",
       "\n",
       "[5 rows x 23 columns]"
      ]
     },
     "metadata": {},
     "output_type": "display_data"
    },
    {
     "data": {
      "text/plain": [
       "109031    145900\n",
       "109032     29900\n",
       "109033     37900\n",
       "109034     62000\n",
       "109035     39900\n",
       "Name: price, dtype: int64"
      ]
     },
     "metadata": {},
     "output_type": "display_data"
    }
   ],
   "source": [
    "display(X.head(),y.head())"
   ]
  },
  {
   "cell_type": "markdown",
   "id": "1cdbe2fb",
   "metadata": {},
   "source": [
    "### Predicting my parents car price"
   ]
  },
  {
   "cell_type": "code",
   "execution_count": 27,
   "id": "fcd635e1",
   "metadata": {},
   "outputs": [],
   "source": [
    "from sklearn.model_selection import train_test_split\n",
    "from sklearn.preprocessing import StandardScaler\n",
    "from sklearn.pipeline import make_pipeline\n",
    "from sklearn.preprocessing import PolynomialFeatures\n",
    "from sklearn.linear_model import LinearRegression\n",
    "from sklearn.model_selection import cross_val_score"
   ]
  },
  {
   "cell_type": "code",
   "execution_count": 28,
   "id": "b317a5c2",
   "metadata": {},
   "outputs": [],
   "source": [
    "X_train, X_test, y_train, y_test = train_test_split(X, y, test_size=0.3, random_state=42)"
   ]
  },
  {
   "cell_type": "code",
   "execution_count": 29,
   "id": "0422b763",
   "metadata": {},
   "outputs": [
    {
     "data": {
      "text/plain": [
       "array([0.84916915, 0.79234728, 0.85523555, 0.85258098, 0.88271507])"
      ]
     },
     "execution_count": 29,
     "metadata": {},
     "output_type": "execute_result"
    }
   ],
   "source": [
    "linear = make_pipeline(StandardScaler(), LinearRegression())\n",
    "lin_cross = cross_val_score(linear, X_train, y_train)\n",
    "lin_cross"
   ]
  },
  {
   "cell_type": "code",
   "execution_count": 30,
   "id": "2c5a552c",
   "metadata": {},
   "outputs": [],
   "source": [
    "def print_cross_val(estimator, model):\n",
    "    print(f'Model {model} accuracy is {estimator.mean():.2f} with standard deviation {estimator.std():.2f}')"
   ]
  },
  {
   "cell_type": "code",
   "execution_count": 31,
   "id": "94c6d10b",
   "metadata": {},
   "outputs": [
    {
     "name": "stdout",
     "output_type": "stream",
     "text": [
      "Model Linear Regression Degree 1 accuracy is 0.85 with standard deviation 0.03\n"
     ]
    }
   ],
   "source": [
    "print_cross_val(lin_cross, \"Linear Regression Degree 1\")"
   ]
  },
  {
   "cell_type": "code",
   "execution_count": 32,
   "id": "1773afc7",
   "metadata": {},
   "outputs": [
    {
     "data": {
      "text/plain": [
       "0.8672670350152505"
      ]
     },
     "execution_count": 32,
     "metadata": {},
     "output_type": "execute_result"
    }
   ],
   "source": [
    "linear.fit(X_train.values, y_train.values)\n",
    "linear.score(X_train.values, y_train.values)"
   ]
  },
  {
   "cell_type": "code",
   "execution_count": 33,
   "id": "7ec49ef2",
   "metadata": {},
   "outputs": [
    {
     "name": "stdout",
     "output_type": "stream",
     "text": [
      "Model's score on test set is: 0.87\n"
     ]
    }
   ],
   "source": [
    "prediction = linear.predict(X_test.values)\n",
    "print(f\"Model's score on test set is: {linear.score(X_test.values, y_test.values):.2f}\")"
   ]
  },
  {
   "cell_type": "code",
   "execution_count": 34,
   "id": "a0ad1683",
   "metadata": {},
   "outputs": [],
   "source": [
    "from sklearn.metrics import mean_squared_error"
   ]
  },
  {
   "cell_type": "code",
   "execution_count": 35,
   "id": "02c76388",
   "metadata": {},
   "outputs": [
    {
     "data": {
      "text/plain": [
       "12255.463561202698"
      ]
     },
     "execution_count": 35,
     "metadata": {},
     "output_type": "execute_result"
    }
   ],
   "source": [
    "np.sqrt(mean_squared_error(y_test, prediction))"
   ]
  },
  {
   "cell_type": "code",
   "execution_count": 36,
   "id": "25a6e804",
   "metadata": {},
   "outputs": [
    {
     "name": "stdout",
     "output_type": "stream",
     "text": [
      "126800 year                   2021\n",
      "mileage                   1\n",
      "vol_engine             1199\n",
      "Dolnośląskie              0\n",
      "Kujawsko-pomorskie        0\n",
      "Lubelskie                 0\n",
      "Lubuskie                  0\n",
      "Mazowieckie               1\n",
      "Małopolskie               0\n",
      "Opolskie                  0\n",
      "Podkarpackie              0\n",
      "Podlaskie                 0\n",
      "Pomorskie                 0\n",
      "Warmińsko-mazurskie       0\n",
      "Wielkopolskie             0\n",
      "Zachodniopomorskie        0\n",
      "Łódzkie                   0\n",
      "Śląskie                   0\n",
      "Świętokrzyskie            0\n",
      "Diesel                    0\n",
      "Electric                  0\n",
      "Gasoline                  1\n",
      "LPG                       0\n",
      "Name: 109316, dtype: int64 (135,) Index(['year', 'mileage', 'vol_engine', 'Dolnośląskie', 'Kujawsko-pomorskie',\n",
      "       'Lubelskie', 'Lubuskie', 'Mazowieckie', 'Małopolskie', 'Opolskie',\n",
      "       'Podkarpackie', 'Podlaskie', 'Pomorskie', 'Warmińsko-mazurskie',\n",
      "       'Wielkopolskie', 'Zachodniopomorskie', 'Łódzkie', 'Śląskie',\n",
      "       'Świętokrzyskie', 'Diesel', 'Electric', 'Gasoline', 'LPG'],\n",
      "      dtype='object') [2021    1 1199    0    0    0    0    1    0    0    0    0    0    0\n",
      "    0    0    0    0    0    0    0    1    0]\n"
     ]
    }
   ],
   "source": [
    "print(y_test.iloc[0],X_test.iloc[0], y_test.shape, X_train.columns, X_test.iloc[0].values)"
   ]
  },
  {
   "cell_type": "markdown",
   "id": "bd580ef6",
   "metadata": {},
   "source": [
    "#### Creating my parents car example"
   ]
  },
  {
   "cell_type": "code",
   "execution_count": 37,
   "id": "6db3d827",
   "metadata": {},
   "outputs": [],
   "source": [
    "my_car = pd.Series(index=['year', 'mileage', 'vol_engine', 'Dolnośląskie', 'Kujawsko-pomorskie',\n",
    "       'Lubelskie', 'Lubuskie', 'Mazowieckie', 'Małopolskie', 'Opolskie',\n",
    "       'Podkarpackie', 'Podlaskie', 'Pomorskie', 'Warmińsko-mazurskie',\n",
    "       'Wielkopolskie', 'Zachodniopomorskie', 'Łódzkie', 'Śląskie',\n",
    "       'Świętokrzyskie', 'Diesel', 'Electric', 'Gasoline', 'LPG'],\n",
    "                  data=[2014, 74123, 1599, 0, 0, 0, 0, 0, 1, 0, 0, 0, 0, 0, 0, 0, 0, 0, 0, 0, 0, 1, 0])"
   ]
  },
  {
   "cell_type": "code",
   "execution_count": 38,
   "id": "2e310a29",
   "metadata": {},
   "outputs": [
    {
     "data": {
      "text/plain": [
       "year                    2014\n",
       "mileage                74123\n",
       "vol_engine              1599\n",
       "Dolnośląskie               0\n",
       "Kujawsko-pomorskie         0\n",
       "Lubelskie                  0\n",
       "Lubuskie                   0\n",
       "Mazowieckie                0\n",
       "Małopolskie                1\n",
       "Opolskie                   0\n",
       "Podkarpackie               0\n",
       "Podlaskie                  0\n",
       "Pomorskie                  0\n",
       "Warmińsko-mazurskie        0\n",
       "Wielkopolskie              0\n",
       "Zachodniopomorskie         0\n",
       "Łódzkie                    0\n",
       "Śląskie                    0\n",
       "Świętokrzyskie             0\n",
       "Diesel                     0\n",
       "Electric                   0\n",
       "Gasoline                   1\n",
       "LPG                        0\n",
       "dtype: int64"
      ]
     },
     "execution_count": 38,
     "metadata": {},
     "output_type": "execute_result"
    }
   ],
   "source": [
    "my_car"
   ]
  },
  {
   "cell_type": "code",
   "execution_count": 39,
   "id": "1f98863e",
   "metadata": {},
   "outputs": [
    {
     "name": "stdout",
     "output_type": "stream",
     "text": [
      "My parents can sell their car approximately for 41757zł \n"
     ]
    }
   ],
   "source": [
    "print(f\"My parents can sell their car approximately for {int(linear.predict([my_car]))}zł \")"
   ]
  },
  {
   "cell_type": "markdown",
   "id": "14929f3f",
   "metadata": {},
   "source": [
    "### Polynomial Regression"
   ]
  },
  {
   "cell_type": "code",
   "execution_count": 40,
   "id": "4005fa7f",
   "metadata": {},
   "outputs": [
    {
     "name": "stdout",
     "output_type": "stream",
     "text": [
      "Model Polynomial Regression degree 1 accuracy is 0.85 with standard deviation 0.03\n",
      "Model Polynomial Regression degree 2 accuracy is -862473426736696226481763577233408.00 with standard deviation 1660313260713274332088622051753984.00\n",
      "Model Polynomial Regression degree 3 accuracy is -3184085801862462737194736523270946816.00 with standard deviation 6367992347471927071159613335952949248.00\n",
      "Model Polynomial Regression degree 4 accuracy is -32255692879784871763080345993761817664421888.00 with standard deviation 64511385759120024668689099041258281480749056.00\n"
     ]
    }
   ],
   "source": [
    "for i in range(1, 5):\n",
    "    poly = make_pipeline(PolynomialFeatures(i), StandardScaler(), LinearRegression())\n",
    "    poly_cross = cross_val_score(poly, X_train, y_train)\n",
    "    print_cross_val(poly_cross, f\"Polynomial Regression degree {i}\")"
   ]
  },
  {
   "cell_type": "code",
   "execution_count": 41,
   "id": "7241b95d",
   "metadata": {},
   "outputs": [
    {
     "data": {
      "text/plain": [
       "-7.123343827368139e+26"
      ]
     },
     "execution_count": 41,
     "metadata": {},
     "output_type": "execute_result"
    }
   ],
   "source": [
    "poly = make_pipeline(PolynomialFeatures(2), StandardScaler(), LinearRegression())\n",
    "poly.fit(X_train.values, y_train.values)\n",
    "poly_pred = poly.predict(X_test.values)\n",
    "mean_squared_error(y_test, poly_pred)\n",
    "poly.score(X_test.values, y_test.values)"
   ]
  },
  {
   "cell_type": "code",
   "execution_count": 42,
   "id": "eee226fa",
   "metadata": {},
   "outputs": [
    {
     "name": "stdout",
     "output_type": "stream",
     "text": [
      "-41954185526488880\n"
     ]
    }
   ],
   "source": [
    "print(int(poly.predict([my_car.values])))"
   ]
  },
  {
   "cell_type": "markdown",
   "id": "35ede8b4",
   "metadata": {},
   "source": [
    "Polynomial Regression even though it has better score and less sqrt(mean squared error) made crazy prediction about price of my parents car. It's perfect example of model overfitting."
   ]
  },
  {
   "cell_type": "markdown",
   "id": "74eb24c8",
   "metadata": {},
   "source": [
    "### Lasso Regression"
   ]
  },
  {
   "cell_type": "code",
   "execution_count": 43,
   "id": "7b27b9f4",
   "metadata": {},
   "outputs": [],
   "source": [
    "from sklearn.linear_model import Lasso"
   ]
  },
  {
   "cell_type": "code",
   "execution_count": 44,
   "id": "39fad818",
   "metadata": {},
   "outputs": [
    {
     "name": "stdout",
     "output_type": "stream",
     "text": [
      "Model Lasso with Alpha 0.5 accuracy is 0.85 with standard deviation 0.03\n",
      "Model Lasso with Alpha 1.0 accuracy is 0.85 with standard deviation 0.03\n",
      "Model Lasso with Alpha 1.5 accuracy is 0.85 with standard deviation 0.03\n",
      "Model Lasso with Alpha 2.0 accuracy is 0.85 with standard deviation 0.03\n",
      "Model Lasso with Alpha 2.5 accuracy is 0.85 with standard deviation 0.03\n",
      "Model Lasso with Alpha 3.0 accuracy is 0.85 with standard deviation 0.03\n",
      "Model Lasso with Alpha 3.5 accuracy is 0.85 with standard deviation 0.03\n",
      "Model Lasso with Alpha 4.0 accuracy is 0.85 with standard deviation 0.03\n",
      "Model Lasso with Alpha 4.5 accuracy is 0.85 with standard deviation 0.03\n",
      "Model Lasso with Alpha 5.0 accuracy is 0.85 with standard deviation 0.03\n",
      "Model Lasso with Alpha 5.5 accuracy is 0.85 with standard deviation 0.03\n",
      "Model Lasso with Alpha 6.0 accuracy is 0.85 with standard deviation 0.03\n",
      "Model Lasso with Alpha 6.5 accuracy is 0.85 with standard deviation 0.03\n",
      "Model Lasso with Alpha 7.0 accuracy is 0.85 with standard deviation 0.03\n",
      "Model Lasso with Alpha 7.5 accuracy is 0.85 with standard deviation 0.03\n",
      "Model Lasso with Alpha 8.0 accuracy is 0.85 with standard deviation 0.03\n",
      "Model Lasso with Alpha 8.5 accuracy is 0.85 with standard deviation 0.03\n",
      "Model Lasso with Alpha 9.0 accuracy is 0.85 with standard deviation 0.03\n",
      "Model Lasso with Alpha 9.5 accuracy is 0.85 with standard deviation 0.03\n",
      "Model Lasso with Alpha 10.0 accuracy is 0.85 with standard deviation 0.03\n",
      "Model Lasso with Alpha 10.5 accuracy is 0.85 with standard deviation 0.03\n",
      "Model Lasso with Alpha 11.0 accuracy is 0.85 with standard deviation 0.03\n",
      "Model Lasso with Alpha 11.5 accuracy is 0.85 with standard deviation 0.03\n",
      "Model Lasso with Alpha 12.0 accuracy is 0.85 with standard deviation 0.03\n",
      "Model Lasso with Alpha 12.5 accuracy is 0.85 with standard deviation 0.03\n",
      "Model Lasso with Alpha 13.0 accuracy is 0.85 with standard deviation 0.03\n",
      "Model Lasso with Alpha 13.5 accuracy is 0.85 with standard deviation 0.03\n",
      "Model Lasso with Alpha 14.0 accuracy is 0.85 with standard deviation 0.03\n",
      "Model Lasso with Alpha 14.5 accuracy is 0.85 with standard deviation 0.03\n",
      "Model Lasso with Alpha 15.0 accuracy is 0.85 with standard deviation 0.03\n",
      "Model Lasso with Alpha 15.5 accuracy is 0.85 with standard deviation 0.03\n",
      "Model Lasso with Alpha 16.0 accuracy is 0.85 with standard deviation 0.03\n",
      "Model Lasso with Alpha 16.5 accuracy is 0.85 with standard deviation 0.03\n",
      "Model Lasso with Alpha 17.0 accuracy is 0.85 with standard deviation 0.03\n",
      "Model Lasso with Alpha 17.5 accuracy is 0.85 with standard deviation 0.03\n",
      "Model Lasso with Alpha 18.0 accuracy is 0.85 with standard deviation 0.03\n",
      "Model Lasso with Alpha 18.5 accuracy is 0.85 with standard deviation 0.03\n",
      "Model Lasso with Alpha 19.0 accuracy is 0.85 with standard deviation 0.03\n",
      "Model Lasso with Alpha 19.5 accuracy is 0.85 with standard deviation 0.03\n",
      "Model Lasso with Alpha 20.0 accuracy is 0.85 with standard deviation 0.03\n",
      "Model Lasso with Alpha 20.5 accuracy is 0.85 with standard deviation 0.03\n",
      "Model Lasso with Alpha 21.0 accuracy is 0.85 with standard deviation 0.03\n",
      "Model Lasso with Alpha 21.5 accuracy is 0.85 with standard deviation 0.03\n",
      "Model Lasso with Alpha 22.0 accuracy is 0.85 with standard deviation 0.03\n",
      "Model Lasso with Alpha 22.5 accuracy is 0.85 with standard deviation 0.03\n",
      "Model Lasso with Alpha 23.0 accuracy is 0.85 with standard deviation 0.03\n",
      "Model Lasso with Alpha 23.5 accuracy is 0.85 with standard deviation 0.03\n",
      "Model Lasso with Alpha 24.0 accuracy is 0.85 with standard deviation 0.03\n",
      "Model Lasso with Alpha 24.5 accuracy is 0.85 with standard deviation 0.03\n",
      "Model Lasso with Alpha 25.0 accuracy is 0.85 with standard deviation 0.03\n"
     ]
    }
   ],
   "source": [
    "alpha = 0\n",
    "for i in range(50):\n",
    "    alpha += 0.5\n",
    "    lasso = make_pipeline(StandardScaler(), Lasso(alpha=alpha, max_iter=10**5))\n",
    "    cross_lasso = cross_val_score(lasso, X_train, y_train)\n",
    "    print_cross_val(cross_lasso, f\"Lasso with Alpha {alpha}\")"
   ]
  },
  {
   "cell_type": "code",
   "execution_count": 45,
   "id": "881f8e1d",
   "metadata": {},
   "outputs": [
    {
     "data": {
      "text/plain": [
       "Pipeline(steps=[('standardscaler', StandardScaler()),\n",
       "                ('lasso', Lasso(alpha=0.5, max_iter=100000))])"
      ]
     },
     "execution_count": 45,
     "metadata": {},
     "output_type": "execute_result"
    }
   ],
   "source": [
    "lasso = make_pipeline(StandardScaler(), Lasso(alpha=0.5, max_iter=10**5))\n",
    "lasso.fit(X_train.values, y_train.values)"
   ]
  },
  {
   "cell_type": "code",
   "execution_count": 46,
   "id": "af2eee48",
   "metadata": {},
   "outputs": [
    {
     "data": {
      "text/plain": [
       "0.8672670235372961"
      ]
     },
     "execution_count": 46,
     "metadata": {},
     "output_type": "execute_result"
    }
   ],
   "source": [
    "lasso.score(X_train.values, y_train.values)"
   ]
  },
  {
   "cell_type": "code",
   "execution_count": 47,
   "id": "bd8c78b1",
   "metadata": {},
   "outputs": [
    {
     "data": {
      "text/plain": [
       "0.8699496616942312"
      ]
     },
     "execution_count": 47,
     "metadata": {},
     "output_type": "execute_result"
    }
   ],
   "source": [
    "pre_lasso = lasso.predict(X_test.values)\n",
    "lasso.score(X_test.values, y_test.values)"
   ]
  },
  {
   "cell_type": "code",
   "execution_count": 48,
   "id": "2cfe4c03",
   "metadata": {},
   "outputs": [
    {
     "data": {
      "text/plain": [
       "12255.128507978645"
      ]
     },
     "execution_count": 48,
     "metadata": {},
     "output_type": "execute_result"
    }
   ],
   "source": [
    "np.sqrt(mean_squared_error(y_test.values, pre_lasso))"
   ]
  },
  {
   "cell_type": "code",
   "execution_count": 49,
   "id": "2e1a5deb",
   "metadata": {},
   "outputs": [
    {
     "data": {
      "text/plain": [
       "array([41746.66407162])"
      ]
     },
     "execution_count": 49,
     "metadata": {},
     "output_type": "execute_result"
    }
   ],
   "source": [
    "lasso.predict([my_car])"
   ]
  },
  {
   "cell_type": "markdown",
   "id": "8a34d496",
   "metadata": {},
   "source": [
    "As we can see Lasso Regression made pretty much the same results as our linear model"
   ]
  },
  {
   "cell_type": "markdown",
   "id": "228faa91",
   "metadata": {},
   "source": [
    "### Linear SVM Regression"
   ]
  },
  {
   "cell_type": "code",
   "execution_count": 50,
   "id": "896eb275",
   "metadata": {},
   "outputs": [],
   "source": [
    "from sklearn.svm import LinearSVR"
   ]
  },
  {
   "cell_type": "code",
   "execution_count": 51,
   "id": "41f546c9",
   "metadata": {},
   "outputs": [],
   "source": [
    "def find_best_C_Linear():\n",
    "    a = 0.01\n",
    "    err = []\n",
    "    for _ in range(10):\n",
    "        a*=10\n",
    "        svr = make_pipeline(StandardScaler(),LinearSVR(C=a,epsilon=1,max_iter=10**7))\n",
    "        svr.fit(X_train.values, y_train.values)\n",
    "        pred_svr = svr.predict(X_test.values) \n",
    "        err.append(np.sqrt(mean_squared_error(y_test, pred_svr)))\n",
    "    plt.figure(figsize=(10,7),dpi=100)\n",
    "    plt.plot(range(10),\n",
    "             err,\n",
    "             linestyle='--',\n",
    "             color='skyblue')\n",
    "    plt.xlabel('C value (10**x)')\n",
    "    plt.ylabel('Sqrt(mean squared error)')"
   ]
  },
  {
   "cell_type": "code",
   "execution_count": 52,
   "id": "053e2e3f",
   "metadata": {},
   "outputs": [
    {
     "name": "stderr",
     "output_type": "stream",
     "text": [
      "/home/barti/.local/lib/python3.8/site-packages/sklearn/svm/_base.py:1206: ConvergenceWarning: Liblinear failed to converge, increase the number of iterations.\n",
      "  warnings.warn(\n"
     ]
    },
    {
     "data": {
      "image/png": "[encoded data removed]",
      "text/plain": [
       "<Figure size 1000x700 with 1 Axes>"
      ]
     },
     "metadata": {
      "needs_background": "light"
     },
     "output_type": "display_data"
    }
   ],
   "source": [
    "find_best_C_Linear()"
   ]
  },
  {
   "cell_type": "code",
   "execution_count": 53,
   "id": "85c192cb",
   "metadata": {},
   "outputs": [
    {
     "data": {
      "text/plain": [
       "0.853182317549097"
      ]
     },
     "execution_count": 53,
     "metadata": {},
     "output_type": "execute_result"
    }
   ],
   "source": [
    "svr = make_pipeline(StandardScaler(),LinearSVR(C=10**4,epsilon=1,max_iter=10**7))\n",
    "svr.fit(X_train.values, y_train.values)\n",
    "svr.score(X_test.values, y_test.values)"
   ]
  },
  {
   "cell_type": "code",
   "execution_count": 54,
   "id": "0358460b",
   "metadata": {},
   "outputs": [
    {
     "data": {
      "text/plain": [
       "0.8555449024852801"
      ]
     },
     "execution_count": 54,
     "metadata": {},
     "output_type": "execute_result"
    }
   ],
   "source": [
    "svr.score(X_train.values, y_train.values)"
   ]
  },
  {
   "cell_type": "code",
   "execution_count": 55,
   "id": "063ea86b",
   "metadata": {},
   "outputs": [
    {
     "name": "stdout",
     "output_type": "stream",
     "text": [
      "My parents can sell their car approximately for 39699zł \n"
     ]
    }
   ],
   "source": [
    "print(f\"My parents can sell their car approximately for {int(svr.predict([my_car]))}zł \")"
   ]
  },
  {
   "cell_type": "markdown",
   "id": "2214af8b",
   "metadata": {},
   "source": [
    "### Polynomial SVR Regression"
   ]
  },
  {
   "cell_type": "code",
   "execution_count": 56,
   "id": "0e4bda04",
   "metadata": {},
   "outputs": [],
   "source": [
    "from sklearn.svm import SVR"
   ]
  },
  {
   "cell_type": "code",
   "execution_count": 57,
   "id": "f94c1fa6",
   "metadata": {},
   "outputs": [],
   "source": [
    "def find_best_C():\n",
    "    a = 1\n",
    "    err = []\n",
    "    for _ in range(8):\n",
    "        a*=10\n",
    "        poly_svr = make_pipeline(StandardScaler(),SVR(degree=2, C=a, epsilon=1))\n",
    "        poly_svr.fit(X_train.values, y_train.values)\n",
    "        pred_poly_svr = poly_svr.predict(X_test.values) \n",
    "        err.append(np.sqrt(mean_squared_error(y_test, pred_poly_svr)))\n",
    "    plt.figure(figsize=(10,7),dpi=100)\n",
    "    plt.plot(range(8),\n",
    "             err,\n",
    "             linestyle='--',\n",
    "             color='darkorange')\n",
    "    plt.xlabel('C value (10**x)')\n",
    "    plt.ylabel('Sqrt(mean squared error)')"
   ]
  },
  {
   "cell_type": "code",
   "execution_count": 58,
   "id": "1933080f",
   "metadata": {},
   "outputs": [
    {
     "data": {
      "image/png": "[encoded data removed]",
      "text/plain": [
       "<Figure size 1000x700 with 1 Axes>"
      ]
     },
     "metadata": {
      "needs_background": "light"
     },
     "output_type": "display_data"
    }
   ],
   "source": [
    "find_best_C()"
   ]
  },
  {
   "cell_type": "code",
   "execution_count": 59,
   "id": "08ced562",
   "metadata": {},
   "outputs": [
    {
     "data": {
      "text/plain": [
       "13216.78723196375"
      ]
     },
     "execution_count": 59,
     "metadata": {},
     "output_type": "execute_result"
    }
   ],
   "source": [
    "poly_svr = make_pipeline(StandardScaler(),SVR(degree=2, C=10**5, epsilon=1.5))\n",
    "poly_svr.fit(X_train.values, y_train.values)\n",
    "pred_poly_svr = poly_svr.predict(X_test.values)\n",
    "np.sqrt(mean_squared_error(y_test, pred_poly_svr))"
   ]
  },
  {
   "cell_type": "code",
   "execution_count": 60,
   "id": "ef8f5b86",
   "metadata": {},
   "outputs": [
    {
     "data": {
      "text/plain": [
       "0.8487387990201695"
      ]
     },
     "execution_count": 60,
     "metadata": {},
     "output_type": "execute_result"
    }
   ],
   "source": [
    "poly_svr.score(X_test.values, y_test.values)"
   ]
  },
  {
   "cell_type": "code",
   "execution_count": 61,
   "id": "ea5ab165",
   "metadata": {},
   "outputs": [
    {
     "data": {
      "text/plain": [
       "array([40607.11312637])"
      ]
     },
     "execution_count": 61,
     "metadata": {},
     "output_type": "execute_result"
    }
   ],
   "source": [
    "poly_svr.predict([my_car])"
   ]
  },
  {
   "cell_type": "code",
   "execution_count": 62,
   "id": "1acd3de8",
   "metadata": {},
   "outputs": [
    {
     "data": {
      "text/plain": [
       "13216.78723196375"
      ]
     },
     "execution_count": 62,
     "metadata": {},
     "output_type": "execute_result"
    }
   ],
   "source": [
    "poly_svr = make_pipeline(StandardScaler(),SVR(degree=2, C=10**5, epsilon=1.5))\n",
    "poly_svr.fit(X_train.values, y_train.values)\n",
    "pred_poly_svr = poly_svr.predict(X_test.values)\n",
    "np.sqrt(mean_squared_error(y_test, pred_poly_svr))"
   ]
  },
  {
   "cell_type": "code",
   "execution_count": 63,
   "id": "1e3ce0ef",
   "metadata": {},
   "outputs": [
    {
     "data": {
      "text/plain": [
       "0.8487387990201695"
      ]
     },
     "execution_count": 63,
     "metadata": {},
     "output_type": "execute_result"
    }
   ],
   "source": [
    "poly_svr.score(X_test.values, y_test.values)"
   ]
  },
  {
   "cell_type": "code",
   "execution_count": 64,
   "id": "81489bb3",
   "metadata": {},
   "outputs": [
    {
     "data": {
      "text/plain": [
       "array([40607.11312637])"
      ]
     },
     "execution_count": 64,
     "metadata": {},
     "output_type": "execute_result"
    }
   ],
   "source": [
    "poly_svr.predict([my_car])"
   ]
  },
  {
   "cell_type": "markdown",
   "id": "c245093f",
   "metadata": {},
   "source": [
    "As we can see Polynomial SVR doing better predictions at big C values, it means that it's better to use linear model which give us better prediciotns and will not cause overfitting."
   ]
  },
  {
   "cell_type": "markdown",
   "id": "ec56f01a",
   "metadata": {},
   "source": [
    "### Ridge Regression"
   ]
  },
  {
   "cell_type": "code",
   "execution_count": 65,
   "id": "73060968",
   "metadata": {},
   "outputs": [],
   "source": [
    "from sklearn.linear_model import Ridge"
   ]
  },
  {
   "cell_type": "code",
   "execution_count": 66,
   "id": "c06c18f2",
   "metadata": {},
   "outputs": [
    {
     "name": "stdout",
     "output_type": "stream",
     "text": [
      "Model Ridge with alpha 0.20 accuracy is -6932.91 with standard deviation 13759.09\n",
      "Model Ridge with alpha 0.40 accuracy is -8718.09 with standard deviation 17334.97\n",
      "Model Ridge with alpha 0.60 accuracy is -9631.57 with standard deviation 19167.32\n",
      "Model Ridge with alpha 0.80 accuracy is -10215.11 with standard deviation 20339.52\n",
      "Model Ridge with alpha 1.00 accuracy is -10633.21 with standard deviation 21180.61\n",
      "Model Ridge with alpha 1.20 accuracy is -10954.62 with standard deviation 21828.09\n",
      "Model Ridge with alpha 1.40 accuracy is -11213.65 with standard deviation 22350.56\n",
      "Model Ridge with alpha 1.60 accuracy is -11429.50 with standard deviation 22786.46\n",
      "Model Ridge with alpha 1.80 accuracy is -11613.86 with standard deviation 23159.17\n",
      "Model Ridge with alpha 2.00 accuracy is -11774.30 with standard deviation 23483.83\n",
      "Model Ridge with alpha 2.20 accuracy is -11915.97 with standard deviation 23770.78\n",
      "Model Ridge with alpha 2.40 accuracy is -12042.52 with standard deviation 24027.31\n",
      "Model Ridge with alpha 2.60 accuracy is -12156.64 with standard deviation 24258.79\n",
      "Model Ridge with alpha 2.80 accuracy is -12260.33 with standard deviation 24469.27\n",
      "Model Ridge with alpha 3.00 accuracy is -12355.16 with standard deviation 24661.86\n",
      "Model Ridge with alpha 3.20 accuracy is -12442.34 with standard deviation 24839.03\n",
      "Model Ridge with alpha 3.40 accuracy is -12522.88 with standard deviation 25002.75\n",
      "Model Ridge with alpha 3.60 accuracy is -12597.56 with standard deviation 25154.64\n",
      "Model Ridge with alpha 3.80 accuracy is -12667.05 with standard deviation 25296.02\n",
      "Model Ridge with alpha 4.00 accuracy is -12731.91 with standard deviation 25428.02\n",
      "Model Ridge with alpha 4.20 accuracy is -12792.60 with standard deviation 25551.58\n",
      "Model Ridge with alpha 4.40 accuracy is -12849.53 with standard deviation 25667.51\n",
      "Model Ridge with alpha 4.60 accuracy is -12903.05 with standard deviation 25776.50\n",
      "Model Ridge with alpha 4.80 accuracy is -12953.45 with standard deviation 25879.16\n",
      "Model Ridge with alpha 5.00 accuracy is -13000.99 with standard deviation 25976.02\n"
     ]
    }
   ],
   "source": [
    "alpha = 0\n",
    "for i in range(25):\n",
    "    alpha += 0.2\n",
    "    ridge = make_pipeline(PolynomialFeatures(2),StandardScaler(),Ridge(alpha=alpha))\n",
    "    score = cross_val_score(ridge, X_train, y_train)\n",
    "    print_cross_val(score, f\"Ridge with alpha {alpha:.2f}\")"
   ]
  },
  {
   "cell_type": "code",
   "execution_count": 67,
   "id": "4496d69a",
   "metadata": {},
   "outputs": [
    {
     "name": "stdout",
     "output_type": "stream",
     "text": [
      "Model Ridge with alpha 0.20 accuracy is 0.85 with standard deviation 0.03\n",
      "Model Ridge with alpha 0.40 accuracy is 0.85 with standard deviation 0.03\n",
      "Model Ridge with alpha 0.60 accuracy is 0.85 with standard deviation 0.03\n",
      "Model Ridge with alpha 0.80 accuracy is 0.85 with standard deviation 0.03\n",
      "Model Ridge with alpha 1.00 accuracy is 0.85 with standard deviation 0.03\n",
      "Model Ridge with alpha 1.20 accuracy is 0.85 with standard deviation 0.03\n",
      "Model Ridge with alpha 1.40 accuracy is 0.85 with standard deviation 0.03\n",
      "Model Ridge with alpha 1.60 accuracy is 0.85 with standard deviation 0.03\n",
      "Model Ridge with alpha 1.80 accuracy is 0.85 with standard deviation 0.03\n",
      "Model Ridge with alpha 2.00 accuracy is 0.85 with standard deviation 0.03\n",
      "Model Ridge with alpha 2.20 accuracy is 0.85 with standard deviation 0.03\n",
      "Model Ridge with alpha 2.40 accuracy is 0.85 with standard deviation 0.03\n",
      "Model Ridge with alpha 2.60 accuracy is 0.85 with standard deviation 0.03\n",
      "Model Ridge with alpha 2.80 accuracy is 0.85 with standard deviation 0.03\n",
      "Model Ridge with alpha 3.00 accuracy is 0.85 with standard deviation 0.03\n"
     ]
    }
   ],
   "source": [
    "alpha = 0\n",
    "for i in range(15):\n",
    "    alpha += 0.2\n",
    "    ridge = make_pipeline(StandardScaler(),Ridge(alpha=alpha))\n",
    "    score = cross_val_score(ridge, X_train, y_train)\n",
    "    print_cross_val(score, f\"Ridge with alpha {alpha:.2f}\")"
   ]
  },
  {
   "cell_type": "code",
   "execution_count": 68,
   "id": "95e873a6",
   "metadata": {},
   "outputs": [
    {
     "name": "stdout",
     "output_type": "stream",
     "text": [
      "Model Ridge with alpha 1 accuracy is 0.85 with standard deviation 0.03\n"
     ]
    }
   ],
   "source": [
    "ridge = make_pipeline(StandardScaler(),Ridge(alpha=1))\n",
    "score = cross_val_score(ridge, X_train.values, y_train.values)\n",
    "print_cross_val(score, f\"Ridge with alpha {1}\")"
   ]
  },
  {
   "cell_type": "code",
   "execution_count": 69,
   "id": "1e9b4bee",
   "metadata": {},
   "outputs": [],
   "source": [
    "from sklearn.metrics import r2_score"
   ]
  },
  {
   "cell_type": "code",
   "execution_count": 70,
   "id": "20238c25",
   "metadata": {},
   "outputs": [
    {
     "name": "stdout",
     "output_type": "stream",
     "text": [
      "Score of Ridge regression is: 0.87\n"
     ]
    }
   ],
   "source": [
    "ridge.fit(X_train.values, y_train.values)\n",
    "pred_ridge = ridge.predict(X_test.values)\n",
    "print(f\"Score of Ridge regression is: {r2_score(y_test, pred_ridge):.2f}\")"
   ]
  },
  {
   "cell_type": "code",
   "execution_count": 71,
   "id": "d17d41c1",
   "metadata": {},
   "outputs": [
    {
     "name": "stdout",
     "output_type": "stream",
     "text": [
      "Parents estimated car price based on Ridge Regression is: 41591\n"
     ]
    }
   ],
   "source": [
    "print(f'Parents estimated car price based on Ridge Regression is: {int(ridge.predict([my_car.values]))}')"
   ]
  },
  {
   "cell_type": "markdown",
   "id": "07ddf9a4",
   "metadata": {},
   "source": [
    "### Elastic Net"
   ]
  },
  {
   "cell_type": "code",
   "execution_count": 72,
   "id": "8b4272a2",
   "metadata": {},
   "outputs": [],
   "source": [
    "from sklearn.linear_model import ElasticNet"
   ]
  },
  {
   "cell_type": "code",
   "execution_count": 79,
   "id": "f561319b",
   "metadata": {},
   "outputs": [
    {
     "name": "stdout",
     "output_type": "stream",
     "text": [
      "Model Elastic Net alpha=0.10 accuracy is 0.84 with standard deviation 0.03\n",
      "Model Elastic Net alpha=0.20 accuracy is 0.84 with standard deviation 0.03\n",
      "Model Elastic Net alpha=0.30 accuracy is 0.83 with standard deviation 0.03\n",
      "Model Elastic Net alpha=0.40 accuracy is 0.83 with standard deviation 0.03\n",
      "Model Elastic Net alpha=0.50 accuracy is 0.82 with standard deviation 0.03\n",
      "Model Elastic Net alpha=0.60 accuracy is 0.81 with standard deviation 0.03\n",
      "Model Elastic Net alpha=0.70 accuracy is 0.81 with standard deviation 0.03\n",
      "Model Elastic Net alpha=0.80 accuracy is 0.80 with standard deviation 0.03\n",
      "Model Elastic Net alpha=0.90 accuracy is 0.80 with standard deviation 0.03\n",
      "Model Elastic Net alpha=1.00 accuracy is 0.79 with standard deviation 0.03\n",
      "Model Elastic Net alpha=1.10 accuracy is 0.78 with standard deviation 0.03\n",
      "Model Elastic Net alpha=1.20 accuracy is 0.78 with standard deviation 0.03\n",
      "Model Elastic Net alpha=1.30 accuracy is 0.77 with standard deviation 0.03\n",
      "Model Elastic Net alpha=1.40 accuracy is 0.77 with standard deviation 0.03\n",
      "Model Elastic Net alpha=1.50 accuracy is 0.76 with standard deviation 0.03\n",
      "Model Elastic Net alpha=1.60 accuracy is 0.75 with standard deviation 0.03\n",
      "Model Elastic Net alpha=1.70 accuracy is 0.75 with standard deviation 0.03\n",
      "Model Elastic Net alpha=1.80 accuracy is 0.74 with standard deviation 0.03\n",
      "Model Elastic Net alpha=1.90 accuracy is 0.74 with standard deviation 0.03\n",
      "Model Elastic Net alpha=2.00 accuracy is 0.73 with standard deviation 0.03\n",
      "Model Elastic Net alpha=2.10 accuracy is 0.72 with standard deviation 0.03\n",
      "Model Elastic Net alpha=2.20 accuracy is 0.72 with standard deviation 0.03\n",
      "Model Elastic Net alpha=2.30 accuracy is 0.71 with standard deviation 0.03\n",
      "Model Elastic Net alpha=2.40 accuracy is 0.71 with standard deviation 0.03\n",
      "Model Elastic Net alpha=2.50 accuracy is 0.70 with standard deviation 0.03\n"
     ]
    }
   ],
   "source": [
    "alpha = 0\n",
    "for i in range(25):\n",
    "    alpha += 0.1\n",
    "    net = make_pipeline(StandardScaler(), ElasticNet(alpha=alpha))\n",
    "    score = cross_val_score(net, X_train.values, y_train.values)\n",
    "    print_cross_val(score, f'Elastic Net alpha={alpha:.2f}')"
   ]
  },
  {
   "cell_type": "code",
   "execution_count": 78,
   "id": "d9acdb1c",
   "metadata": {},
   "outputs": [
    {
     "name": "stdout",
     "output_type": "stream",
     "text": [
      "Model Elastic Net alpha=0.1, L1: 0.10 accuracy is 0.84 with standard deviation 0.03\n",
      "Model Elastic Net alpha=0.1, L1: 0.20 accuracy is 0.84 with standard deviation 0.03\n",
      "Model Elastic Net alpha=0.1, L1: 0.30 accuracy is 0.84 with standard deviation 0.03\n",
      "Model Elastic Net alpha=0.1, L1: 0.40 accuracy is 0.84 with standard deviation 0.03\n",
      "Model Elastic Net alpha=0.1, L1: 0.50 accuracy is 0.84 with standard deviation 0.03\n",
      "Model Elastic Net alpha=0.1, L1: 0.60 accuracy is 0.84 with standard deviation 0.03\n",
      "Model Elastic Net alpha=0.1, L1: 0.70 accuracy is 0.85 with standard deviation 0.03\n",
      "Model Elastic Net alpha=0.1, L1: 0.80 accuracy is 0.85 with standard deviation 0.03\n",
      "Model Elastic Net alpha=0.1, L1: 0.90 accuracy is 0.85 with standard deviation 0.03\n"
     ]
    }
   ],
   "source": [
    "alpha = 0\n",
    "for i in range(9):\n",
    "    alpha += 0.1 \n",
    "    net = make_pipeline(StandardScaler(), ElasticNet(alpha=0.1, l1_ratio=alpha))\n",
    "    score = cross_val_score(net, X_train.values, y_train.values)\n",
    "    print_cross_val(score, f'Elastic Net alpha=0.1, L1: {alpha:.2f}')"
   ]
  },
  {
   "cell_type": "markdown",
   "id": "db1c14af",
   "metadata": {},
   "source": [
    "We were looking for best alpha and l1 values now we can evaluate our model"
   ]
  },
  {
   "cell_type": "code",
   "execution_count": 81,
   "id": "17f6416c",
   "metadata": {},
   "outputs": [
    {
     "name": "stdout",
     "output_type": "stream",
     "text": [
      "Score of Elastic Net is: 0.87\n"
     ]
    }
   ],
   "source": [
    "net = make_pipeline(StandardScaler(), ElasticNet(alpha=0.1, l1_ratio=0.90))\n",
    "net.fit(X_train.values, y_train.values)\n",
    "pred_net = net.predict(X_test.values)\n",
    "print(f\"Score of Elastic Net is: {r2_score(y_test, pred_net):.2f}\")"
   ]
  },
  {
   "cell_type": "code",
   "execution_count": 82,
   "id": "d7531d62",
   "metadata": {},
   "outputs": [
    {
     "name": "stdout",
     "output_type": "stream",
     "text": [
      "Parents estimated car price based on Elastic Net is: 41327\n"
     ]
    }
   ],
   "source": [
    "print(f'Parents estimated car price based on Elastic Net is: {int(net.predict([my_car.values]))}')"
   ]
  },
  {
   "cell_type": "code",
   "execution_count": null,
   "id": "c76f9980",
   "metadata": {},
   "outputs": [],
   "source": []
  }
 ],
 "metadata": {
  "kernelspec": {
   "display_name": "Python 3 (ipykernel)",
   "language": "python",
   "name": "python3"
  },
  "language_info": {
   "codemirror_mode": {
    "name": "ipython",
    "version": 3
   },
   "file_extension": ".py",
   "mimetype": "text/x-python",
   "name": "python",
   "nbconvert_exporter": "python",
   "pygments_lexer": "ipython3",
   "version": "3.8.10"
  }
 },
 "nbformat": 4,
 "nbformat_minor": 5
}
